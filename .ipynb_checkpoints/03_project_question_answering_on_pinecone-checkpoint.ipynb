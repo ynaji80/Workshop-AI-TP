{
 "cells": [
  {
   "cell_type": "markdown",
   "id": "640e4bbc",
   "metadata": {},
   "source": [
    "# Project: Question-Answering on Private Documents"
   ]
  },
  {
   "cell_type": "markdown",
   "id": "e63104e5-c8bc-4be5-8bf1-0b144f56c194",
   "metadata": {},
   "source": [
    "## Here is all the package needed"
   ]
  },
  {
   "cell_type": "code",
   "execution_count": 10,
   "id": "3e3d50c2-18b6-4380-bc5a-b59f2d98451e",
   "metadata": {},
   "outputs": [
    {
     "name": "stdout",
     "output_type": "stream",
     "text": [
      "Requirement already satisfied: pip in c:\\users\\najiy\\onedrive\\bureau\\llm\\workshop-ai-tp\\env-tp\\lib\\site-packages (24.0)\n",
      "Collecting pip\n",
      "  Using cached pip-24.1.2-py3-none-any.whl.metadata (3.6 kB)\n",
      "Using cached pip-24.1.2-py3-none-any.whl (1.8 MB)\n"
     ]
    },
    {
     "name": "stderr",
     "output_type": "stream",
     "text": [
      "ERROR: To modify pip, please run the following command:\n",
      "C:\\Users\\najiy\\OneDrive\\Bureau\\llm\\Workshop-AI-TP\\env-tp\\Scripts\\python.exe -m pip install --upgrade pip\n",
      "\n",
      "[notice] A new release of pip is available: 24.0 -> 24.1.2\n",
      "[notice] To update, run: python.exe -m pip install --upgrade pip\n"
     ]
    }
   ],
   "source": [
    "!pip install --upgrade pip"
   ]
  },
  {
   "cell_type": "code",
   "execution_count": 11,
   "id": "a5a5617e-465a-4f69-ae10-f85a41017f3b",
   "metadata": {},
   "outputs": [
    {
     "name": "stdout",
     "output_type": "stream",
     "text": [
      "Requirement already satisfied: Cohere in c:\\users\\najiy\\onedrive\\bureau\\llm\\workshop-ai-tp\\env-tp\\lib\\site-packages (5.5.8)"
     ]
    },
    {
     "name": "stderr",
     "output_type": "stream",
     "text": [
      "\n",
      "[notice] A new release of pip is available: 24.0 -> 24.1.2\n",
      "[notice] To update, run: python.exe -m pip install --upgrade pip\n"
     ]
    },
    {
     "name": "stdout",
     "output_type": "stream",
     "text": [
      "\n",
      "Requirement already satisfied: boto3<2.0.0,>=1.34.0 in c:\\users\\najiy\\onedrive\\bureau\\llm\\workshop-ai-tp\\env-tp\\lib\\site-packages (from Cohere) (1.34.143)\n",
      "Requirement already satisfied: fastavro<2.0.0,>=1.9.4 in c:\\users\\najiy\\onedrive\\bureau\\llm\\workshop-ai-tp\\env-tp\\lib\\site-packages (from Cohere) (1.9.5)\n",
      "Requirement already satisfied: httpx>=0.21.2 in c:\\users\\najiy\\onedrive\\bureau\\llm\\workshop-ai-tp\\env-tp\\lib\\site-packages (from Cohere) (0.27.0)\n",
      "Requirement already satisfied: httpx-sse<0.5.0,>=0.4.0 in c:\\users\\najiy\\onedrive\\bureau\\llm\\workshop-ai-tp\\env-tp\\lib\\site-packages (from Cohere) (0.4.0)\n",
      "Requirement already satisfied: parameterized<0.10.0,>=0.9.0 in c:\\users\\najiy\\onedrive\\bureau\\llm\\workshop-ai-tp\\env-tp\\lib\\site-packages (from Cohere) (0.9.0)\n",
      "Requirement already satisfied: pydantic>=1.9.2 in c:\\users\\najiy\\onedrive\\bureau\\llm\\workshop-ai-tp\\env-tp\\lib\\site-packages (from Cohere) (2.8.2)\n",
      "Requirement already satisfied: requests<3.0.0,>=2.0.0 in c:\\users\\najiy\\onedrive\\bureau\\llm\\workshop-ai-tp\\env-tp\\lib\\site-packages (from Cohere) (2.32.3)\n",
      "Requirement already satisfied: tokenizers<1,>=0.15 in c:\\users\\najiy\\onedrive\\bureau\\llm\\workshop-ai-tp\\env-tp\\lib\\site-packages (from Cohere) (0.19.1)\n",
      "Requirement already satisfied: types-requests<3.0.0,>=2.0.0 in c:\\users\\najiy\\onedrive\\bureau\\llm\\workshop-ai-tp\\env-tp\\lib\\site-packages (from Cohere) (2.32.0.20240622)\n",
      "Requirement already satisfied: typing_extensions>=4.0.0 in c:\\users\\najiy\\onedrive\\bureau\\llm\\workshop-ai-tp\\env-tp\\lib\\site-packages (from Cohere) (4.12.2)\n",
      "Requirement already satisfied: botocore<1.35.0,>=1.34.143 in c:\\users\\najiy\\onedrive\\bureau\\llm\\workshop-ai-tp\\env-tp\\lib\\site-packages (from boto3<2.0.0,>=1.34.0->Cohere) (1.34.143)\n",
      "Requirement already satisfied: jmespath<2.0.0,>=0.7.1 in c:\\users\\najiy\\onedrive\\bureau\\llm\\workshop-ai-tp\\env-tp\\lib\\site-packages (from boto3<2.0.0,>=1.34.0->Cohere) (1.0.1)\n",
      "Requirement already satisfied: s3transfer<0.11.0,>=0.10.0 in c:\\users\\najiy\\onedrive\\bureau\\llm\\workshop-ai-tp\\env-tp\\lib\\site-packages (from boto3<2.0.0,>=1.34.0->Cohere) (0.10.2)\n",
      "Requirement already satisfied: anyio in c:\\users\\najiy\\onedrive\\bureau\\llm\\workshop-ai-tp\\env-tp\\lib\\site-packages (from httpx>=0.21.2->Cohere) (4.4.0)\n",
      "Requirement already satisfied: certifi in c:\\users\\najiy\\onedrive\\bureau\\llm\\workshop-ai-tp\\env-tp\\lib\\site-packages (from httpx>=0.21.2->Cohere) (2024.7.4)\n",
      "Requirement already satisfied: httpcore==1.* in c:\\users\\najiy\\onedrive\\bureau\\llm\\workshop-ai-tp\\env-tp\\lib\\site-packages (from httpx>=0.21.2->Cohere) (1.0.5)\n",
      "Requirement already satisfied: idna in c:\\users\\najiy\\onedrive\\bureau\\llm\\workshop-ai-tp\\env-tp\\lib\\site-packages (from httpx>=0.21.2->Cohere) (3.7)\n",
      "Requirement already satisfied: sniffio in c:\\users\\najiy\\onedrive\\bureau\\llm\\workshop-ai-tp\\env-tp\\lib\\site-packages (from httpx>=0.21.2->Cohere) (1.3.1)\n",
      "Requirement already satisfied: h11<0.15,>=0.13 in c:\\users\\najiy\\onedrive\\bureau\\llm\\workshop-ai-tp\\env-tp\\lib\\site-packages (from httpcore==1.*->httpx>=0.21.2->Cohere) (0.14.0)\n",
      "Requirement already satisfied: annotated-types>=0.4.0 in c:\\users\\najiy\\onedrive\\bureau\\llm\\workshop-ai-tp\\env-tp\\lib\\site-packages (from pydantic>=1.9.2->Cohere) (0.7.0)\n",
      "Requirement already satisfied: pydantic-core==2.20.1 in c:\\users\\najiy\\onedrive\\bureau\\llm\\workshop-ai-tp\\env-tp\\lib\\site-packages (from pydantic>=1.9.2->Cohere) (2.20.1)\n",
      "Requirement already satisfied: charset-normalizer<4,>=2 in c:\\users\\najiy\\onedrive\\bureau\\llm\\workshop-ai-tp\\env-tp\\lib\\site-packages (from requests<3.0.0,>=2.0.0->Cohere) (3.3.2)\n",
      "Requirement already satisfied: urllib3<3,>=1.21.1 in c:\\users\\najiy\\onedrive\\bureau\\llm\\workshop-ai-tp\\env-tp\\lib\\site-packages (from requests<3.0.0,>=2.0.0->Cohere) (2.2.2)\n",
      "Requirement already satisfied: huggingface-hub<1.0,>=0.16.4 in c:\\users\\najiy\\onedrive\\bureau\\llm\\workshop-ai-tp\\env-tp\\lib\\site-packages (from tokenizers<1,>=0.15->Cohere) (0.23.4)\n",
      "Requirement already satisfied: python-dateutil<3.0.0,>=2.1 in c:\\users\\najiy\\onedrive\\bureau\\llm\\workshop-ai-tp\\env-tp\\lib\\site-packages (from botocore<1.35.0,>=1.34.143->boto3<2.0.0,>=1.34.0->Cohere) (2.9.0.post0)\n",
      "Requirement already satisfied: filelock in c:\\users\\najiy\\onedrive\\bureau\\llm\\workshop-ai-tp\\env-tp\\lib\\site-packages (from huggingface-hub<1.0,>=0.16.4->tokenizers<1,>=0.15->Cohere) (3.15.4)\n",
      "Requirement already satisfied: fsspec>=2023.5.0 in c:\\users\\najiy\\onedrive\\bureau\\llm\\workshop-ai-tp\\env-tp\\lib\\site-packages (from huggingface-hub<1.0,>=0.16.4->tokenizers<1,>=0.15->Cohere) (2024.6.1)\n",
      "Requirement already satisfied: packaging>=20.9 in c:\\users\\najiy\\onedrive\\bureau\\llm\\workshop-ai-tp\\env-tp\\lib\\site-packages (from huggingface-hub<1.0,>=0.16.4->tokenizers<1,>=0.15->Cohere) (24.1)\n",
      "Requirement already satisfied: pyyaml>=5.1 in c:\\users\\najiy\\onedrive\\bureau\\llm\\workshop-ai-tp\\env-tp\\lib\\site-packages (from huggingface-hub<1.0,>=0.16.4->tokenizers<1,>=0.15->Cohere) (6.0.1)\n",
      "Requirement already satisfied: tqdm>=4.42.1 in c:\\users\\najiy\\onedrive\\bureau\\llm\\workshop-ai-tp\\env-tp\\lib\\site-packages (from huggingface-hub<1.0,>=0.16.4->tokenizers<1,>=0.15->Cohere) (4.66.4)\n",
      "Requirement already satisfied: six>=1.5 in c:\\users\\najiy\\onedrive\\bureau\\llm\\workshop-ai-tp\\env-tp\\lib\\site-packages (from python-dateutil<3.0.0,>=2.1->botocore<1.35.0,>=1.34.143->boto3<2.0.0,>=1.34.0->Cohere) (1.16.0)\n",
      "Requirement already satisfied: colorama in c:\\users\\najiy\\onedrive\\bureau\\llm\\workshop-ai-tp\\env-tp\\lib\\site-packages (from tqdm>=4.42.1->huggingface-hub<1.0,>=0.16.4->tokenizers<1,>=0.15->Cohere) (0.4.6)\n"
     ]
    }
   ],
   "source": [
    "!pip install Cohere"
   ]
  },
  {
   "cell_type": "code",
   "execution_count": 12,
   "id": "ed9cc16b-60c7-467d-85d7-fdf20e4b365b",
   "metadata": {},
   "outputs": [
    {
     "name": "stderr",
     "output_type": "stream",
     "text": [
      "\n",
      "[notice] A new release of pip is available: 24.0 -> 24.1.2\n",
      "[notice] To update, run: python.exe -m pip install --upgrade pip\n"
     ]
    }
   ],
   "source": [
    "!pip install pypdf -q\n",
    "#Once install you don't need to explicitly import pypdf after installing it, because it's already there ready to use"
   ]
  },
  {
   "cell_type": "code",
   "execution_count": 13,
   "id": "b2fe4db2-cf37-4f62-8f25-968d9f551fa5",
   "metadata": {},
   "outputs": [
    {
     "name": "stderr",
     "output_type": "stream",
     "text": [
      "\n",
      "[notice] A new release of pip is available: 24.0 -> 24.1.2\n",
      "[notice] To update, run: python.exe -m pip install --upgrade pip\n"
     ]
    }
   ],
   "source": [
    "!pip install docx2txt -q\n",
    "#Once install you don't need to explicitly import pypdf after installing it, because it's already there ready to use"
   ]
  },
  {
   "cell_type": "code",
   "execution_count": 77,
   "id": "b748fd20",
   "metadata": {},
   "outputs": [
    {
     "data": {
      "text/plain": [
       "True"
      ]
     },
     "execution_count": 77,
     "metadata": {},
     "output_type": "execute_result"
    }
   ],
   "source": [
    "import os\n",
    "from dotenv import load_dotenv, find_dotenv\n",
    "from pinecone import Pinecone\n",
    "from langchain_community.document_loaders import TextLoader, PyPDFLoader, Docx2txtLoader\n",
    "from langchain_text_splitters import RecursiveCharacterTextSplitter, CharacterTextSplitter\n",
    "load_dotenv(find_dotenv(), override=True)\n",
    "\n",
    "# You can add other package here if needed\n"
   ]
  },
  {
   "cell_type": "markdown",
   "id": "07900179",
   "metadata": {},
   "source": [
    "### Loading Documents"
   ]
  },
  {
   "cell_type": "code",
   "execution_count": 15,
   "id": "e1ae19b5",
   "metadata": {},
   "outputs": [],
   "source": [
    "# The goal is to loading PDF, DOCX and TXT files as LangChain Documents\n",
    "from langchain_community.document_loaders import PyPDFLoader, Docx2txtLoader\n",
    "from langchain_community.document_loaders.text import TextLoader\n",
    "from langchain_text_splitters import RecursiveCharacterTextSplitter\n",
    "def load_document(file):\n",
    "\n",
    "    name, extension = os.path.splitext(file) # check splitext()\n",
    "\n",
    "    if extension == '.pdf':\n",
    "        # Find how to load PDF document with https://python.langchain.com/docs/modules/data_connection/document_loaders/\n",
    "        print(f'Loading {file}')\n",
    "        loader = PyPDFLoader(file)\n",
    "    elif extension == '.docx':\n",
    "        # Find how to load DOCX document with https://python.langchain.com/docs/modules/data_connection/document_loaders/\n",
    "        print(f'Loading {file}')\n",
    "        loader = Docx2txtLoader(file)\n",
    "    elif extension == '.txt':\n",
    "        # Find how to load TXT document with https://python.langchain.com/docs/modules/data_connection/document_loaders/\n",
    "        loader= TextLoader(file)\n",
    "    else:\n",
    "        print('Document format is not supported!')\n",
    "        return None\n",
    "\n",
    "    data = loader.load()\n",
    "\n",
    "    # Verification\n",
    "    if len(data) != 0:\n",
    "        return data\n",
    "    else:\n",
    "        print('Document is empty')\n",
    "        return None\n",
    "  "
   ]
  },
  {
   "cell_type": "markdown",
   "id": "e8de1215-74a7-4cc1-95d4-e459c53b7905",
   "metadata": {},
   "source": [
    "#### Verification "
   ]
  },
  {
   "cell_type": "code",
   "execution_count": 18,
   "id": "ded01fb4-cb85-448f-b4bc-52eb92efc440",
   "metadata": {},
   "outputs": [
    {
     "name": "stderr",
     "output_type": "stream",
     "text": [
      "Ignoring wrong pointing object 6 0 (offset 0)\n"
     ]
    },
    {
     "name": "stdout",
     "output_type": "stream",
     "text": [
      "Loading ./documents/churchill_speech.pdf\n",
      "[Document(metadata={'source': './documents/churchill_speech.pdf', 'page': 0}, page_content=\"Winston Churchill Speech - We Shall Fight on the Beaches We Shall Fight on the Beaches June 4, 1940 House of Commons From the moment that the French defenses at Sedan and on the Meuse were broken at the end of the second week of May, only a rapid retreat to Amiens and the south could have saved the BriGsh and French Armies who had entered Belgium at the appeal of the Belgian King; but this strategic fact was not immediately realized. The French High Command hoped they would be able to close the gap, and the Armies of the north were under their orders. Moreover, a reGrement of this kind would have involved almost certainly the destrucGon of the ﬁne Belgian Army of over 20 divisions and the abandonment of the whole of Belgium. Therefore, when the force and scope of the German penetraGon were realized and when a new French Generalissimo, General Weygand, assumed command in place of General Gamelin, an eﬀort was made by the French and BriGsh Armies in Belgium to keep on holding the right hand of the Belgians and to give their own right hand to a newly created French Army which was to have advanced across the Somme in great strength to grasp it. However, the German erupGon swept like a sharp scythe around the right and rear of the Armies of the north. Eight or nine armored divisions, each of about four hundred armored vehicles of diﬀerent kinds, but carefully assorted to be complementary and divisible into small self-contained units, cut oﬀ all communicaGons between us and the main French Armies. It severed our own communicaGons for food and ammuniGon, which ran ﬁrst to Amiens and aSerwards through Abbeville, and it shore its way up the coast to Boulogne and Calais, and almost to Dunkirk. Behind this armored and mechanized onslaught came a number of German divisions in lorries, and behind them again there plodded comparaGvely slowly the dull brute mass of the ordinary German Army and German people, always so ready to be led to the trampling down in other lands of liberGes and comforts which they have never known in their own. I have said this armored scythe-stroke almost reached Dunkirk-almost but not quite. Boulogne and Calais were the scenes of desperate ﬁghGng. The Guards defended Boulogne for a while and were then withdrawn by orders from this country. The Riﬂe Brigade, the 60th Riﬂes, and the Queen Victoria's Riﬂes, with a ba\\\\alion of BriGsh tanks and 1,000 Frenchmen, in all about four thousand strong, defended Calais to the last. The BriGsh Brigadier was given an hour to surrender. He spurned the oﬀer, and four days of intense street ﬁghGng passed before silence reigned over Calais, which marked the end of a memorable resistance. Only 30 unwounded survivors were brought oﬀ by the Navy, and we do not know the fate of their comrades. Their sacriﬁce, however, was not in vain. At least two armored divisions, which otherwise would have been turned against the BriGsh ExpediGonary Force, had to be sent to overcome them. They have added another page to the glories of the light divisions, and the Gme gained enabled the Graveline water lines to be ﬂooded and to be held by the French troops. \"), Document(metadata={'source': './documents/churchill_speech.pdf', 'page': 1}, page_content='Thus it was that the port of Dunkirk was kept open. When it was found impossible for the Armies of the north to reopen their communicaGons to Amiens with the main French Armies, only one choice remained. It seemed, indeed, forlorn. The Belgian, BriGsh and French Armies were almost surrounded. Their sole line of retreat was to a single port and to its neighboring beaches. They were pressed on every side by heavy a\\\\acks and far outnumbered in the air. When, a week ago today, I asked the House to ﬁx this aSernoon as the occasion for a statement, I feared it would be my hard lot to announce the greatest military disaster in our long history. I thought-and some good judges agreed with me-that perhaps 20,000 or 30,000 men might be reembarked. But it certainly seemed that the whole of the French First Army and the whole of the BriGsh ExpediGonary Force north of the Amiens-Abbeville gap would be broken up in the open ﬁeld or else would have to capitulate for lack of food and ammuniGon. These were the hard and heavy Gdings for which I called upon the House and the naGon to prepare themselves a week ago. The whole root and core and brain of the BriGsh Army, on which and around which we were to build, and are to build, the great BriGsh Armies in the later years of the war, seemed about to perish upon the ﬁeld or to be led into an ignominious and starving capGvity. That was the prospect a week ago. But another blow which might well have proved ﬁnal was yet to fall upon us. The King of the Belgians had called upon us to come to his aid. Had not this Ruler and his Government severed themselves from the Allies, who rescued their country from exGncGon in the late war, and had they not sought refuge in what was proved to be a fatal neutrality, the French and BriGsh Armies might well at the outset have saved not only Belgium but perhaps even Poland. Yet at the last moment, when Belgium was already invaded, King Leopold called upon us to come to his aid, and even at the last moment we came. He and his brave, eﬃcient Army, nearly half a million strong, guarded our leS ﬂank and thus kept open our only line of retreat to the sea. Suddenly, without prior consultaGon, with the least possible noGce, without the advice of his Ministers and upon his own personal act, he sent a plenipotenGary to the German Command, surrendered his Army, and exposed our whole ﬂank and means of retreat. I asked the House a week ago to suspend its judgment because the facts were not clear, but I do not feel that any reason now exists why we should not form our own opinions upon this piGful episode. The surrender of the Belgian Army compelled the BriGsh at the shortest noGce to cover a ﬂank to the sea more than 30 miles in length. Otherwise all would have been cut oﬀ, and all would have shared the fate to which King Leopold had condemned the ﬁnest Army his country had ever formed. So in doing this and in exposing this ﬂank, as anyone who followed the operaGons on the map will see, contact was lost between the BriGsh and two out of the three corps forming the First French Army, who were sGll farther from the coast than we were, and it seemed impossible that any large number of Allied troops could reach the coast. The enemy a\\\\acked on all sides with great strength and ﬁerceness, and their main power, the power '), Document(metadata={'source': './documents/churchill_speech.pdf', 'page': 2}, page_content='of their far more numerous Air Force, was thrown into the ba\\\\le or else concentrated upon Dunkirk and the beaches. Pressing in upon the narrow exit, both from the east and from the west, the enemy began to ﬁre with cannon upon the beaches by which alone the shipping could approach or depart. They sowed magneGc mines in the channels and seas; they sent repeated waves of hosGle aircraS, someGmes more than a hundred strong in one formaGon, to cast their bombs upon the single pier that remained, and upon the sand dunes upon which the troops had their eyes for shelter. Their U-boats, one of which was sunk, and their motor launches took their toll of the vast traﬃc which now began. For four or ﬁve days an intense struggle reigned. All their armored divisions-or what Was leS of them-together with great masses of infantry and arGllery, hurled themselves in vain upon the evernarrowing, ever-contracGng appendix within which the BriGsh and French Armies fought. Meanwhile, the Royal Navy, with the willing help of countless merchant seamen, strained every nerve to embark the BriGsh and Allied troops; 220 light warships and 650 other vessels were engaged. They had to operate upon the diﬃcult coast, oSen in adverse weather, under an almost ceaseless hail of bombs and an increasing concentraGon of arGllery ﬁre. Nor were the seas, as I have said, themselves free from mines and torpedoes. It was in condiGons such as these that our men carried on, with li\\\\le or no rest, for days and nights on end, making trip aSer trip across the dangerous waters, bringing with them always men whom they had rescued. The numbers they have brought back are the measure of their devoGon and their courage. The hospital ships, which brought oﬀ many thousands of BriGsh and French wounded, being so plainly marked were a special target for Nazi bombs; but the men and women on board them never faltered in their duty. Meanwhile, the Royal Air Force, which had already been intervening in the ba\\\\le, so far as its range would allow, from home bases, now used part of its main metropolitan ﬁghter strength, and struck at the German bombers and at the ﬁghters which in large numbers protected them. This struggle was protracted and ﬁerce. Suddenly the scene has cleared, the crash and thunder has for the moment-but only for the moment-died away. A miracle of deliverance, achieved by valor, by perseverance, by perfect discipline, by faultless service, by resource, by skill, by unconquerable ﬁdelity, is manifest to us all. The enemy was hurled back by the retreaGng BriGsh and French troops. He was so roughly handled that he did not hurry their departure seriously. The Royal Air Force engaged the main strength of the German Air Force, and inﬂicted upon them losses of at least four to one; and the Navy, using nearly 1,000 ships of all kinds, carried over 335,000 men, French and BriGsh, out of the jaws of death and shame, to their naGve land and to the tasks which lie immediately ahead. We must be very careful not to assign to this deliverance the a\\\\ributes of a victory. Wars are not won by evacuaGons. But there was a victory inside this deliverance, which should be noted. It was gained by the Air Force. Many of our soldiers coming back have not seen the Air Force at work; they saw only the bombers which escaped its protecGve a\\\\ack. They underrate its achievements. I have heard much talk of this; that is why I go out of my way to say this. I will tell you about it. This was a great trial of strength between the BriGsh and German Air Forces. Can you conceive a greater objecGve for the Germans in the air than to make evacuaGon from these beaches impossible, and to sink all these ships which were displayed, almost to the extent of thousands? Could there have been an objecGve of greater military '), Document(metadata={'source': './documents/churchill_speech.pdf', 'page': 3}, page_content='importance and signiﬁcance for the whole purpose of the war than this? They tried hard, and they were beaten back; they were frustrated in their task. We got the Army away; and they have paid fourfold for any losses which they have inﬂicted. Very large formaGons of German aeroplanes-and we know that they are a very brave race-have turned on several occasions from the a\\\\ack of one-quarter of their number of the Royal Air Force, and have dispersed in diﬀerent direcGons. Twelve aeroplanes have been hunted by two. One aeroplane was driven into the water and cast away by the mere charge of a BriGsh aeroplane, which had no more ammuniGon. All of our types-the Hurricane, the Spiiire and the new Deﬁant-and all our pilots have been vindicated as superior to what they have at present to face. When we consider how much greater would be our advantage in defending the air above this Island against an overseas a\\\\ack, I must say that I ﬁnd in these facts a sure basis upon which pracGcal and reassuring thoughts may rest. I will pay my tribute to these young airmen. The great French Army was very largely, for the Gme being, cast back and disturbed by the onrush of a few thousands of armored vehicles. May it not also be that the cause of civilizaGon itself will be defended by the skill and devoGon of a few thousand airmen? There never has been, I suppose, in all the world, in all the history of war, such an opportunity for youth. The Knights of the Round Table, the Crusaders, all fall back into the past-not only distant but prosaic; these young men, going forth every morn to guard their naGve land and all that we stand for, holding in their hands these instruments of colossal and sha\\\\ering power, of whom it may be said that Every morn brought forth a noble chance And every chance brought forth a noble knight, deserve our graGtude, as do all the brave men who, in so many ways and on so many occasions, are ready, and conGnue ready to give life and all for their naGve land. I return to the Army. In the long series of very ﬁerce ba\\\\les, now on this front, now on that, ﬁghGng on three fronts at once, ba\\\\les fought by two or three divisions against an equal or somewhat larger number of the enemy, and fought ﬁercely on some of the old grounds that so many of us knew so wellin these ba\\\\les our losses in men have exceeded 30,000 killed, wounded and missing. I take occasion to express the sympathy of the House to all who have suﬀered bereavement or who are sGll anxious. The President of the Board of Trade [Sir Andrew Duncan] is not here today. His son has been killed, and many in the House have felt the pangs of aﬄicGon in the sharpest form. But I will say this about the missing: We have had a large number of wounded come home safely to this country, but I would say about the missing that there may be very many reported missing who will come back home, some day, in one way or another. In the confusion of this ﬁght it is inevitable that many have been leS in posiGons where honor required no further resistance from them. Against this loss of over 30,000 men, we can set a far heavier loss certainly inﬂicted upon the enemy. But our losses in material are enormous. We have perhaps lost one-third of the men we lost in the opening days of the ba\\\\le of 21st March, 1918, but we have lost nearly as many guns -- nearly one thousand-and all our transport, all the armored vehicles that were with the Army in the north. This loss will impose a further delay on the expansion of our military strength. That expansion had not been proceeding as far as we had hoped. The best of all we had to give had gone to the BriGsh ExpediGonary Force, and although they had not the numbers of tanks and some arGcles of equipment which were desirable, they were a very well and ﬁnely equipped Army. They had the ﬁrst-fruits of all that our industry had to give, and that is gone. And now here is this further delay. How long it will be, how long it will last, depends upon the exerGons which we make in this Island. An eﬀort the like of which has never been seen in '), Document(metadata={'source': './documents/churchill_speech.pdf', 'page': 4}, page_content='our records is now being made. Work is proceeding everywhere, night and day, Sundays and week days. Capital and Labor have cast aside their interests, rights, and customs and put them into the common stock. Already the ﬂow of muniGons has leaped forward. There is no reason why we should not in a few months overtake the sudden and serious loss that has come upon us, without retarding the development of our general program. Nevertheless, our thankfulness at the escape of our Army and so many men, whose loved ones have passed through an agonizing week, must not blind us to the fact that what has happened in France and Belgium is a colossal military disaster. The French Army has been weakened, the Belgian Army has been lost, a large part of those forGﬁed lines upon which so much faith had been reposed is gone, many valuable mining districts and factories have passed into the enemy\\'s possession, the whole of the Channel ports are in his hands, with all the tragic consequences that follow from that, and we must expect another blow to be struck almost immediately at us or at France. We are told that Herr Hitler has a plan for invading the BriGsh Isles. This has oSen been thought of before. When Napoleon lay at Boulogne for a year with his ﬂat-bo\\\\omed boats and his Grand Army, he was told by someone. \"There are bi\\\\er weeds in England.\" There are certainly a great many more of them since the BriGsh ExpediGonary Force returned. The whole quesGon of home defense against invasion is, of course, powerfully aﬀected by the fact that we have for the Gme being in this Island incomparably more powerful military forces than we have ever had at any moment in this war or the last. But this will not conGnue. We shall not be content with a defensive war. We have our duty to our Ally. We have to reconsGtute and build up the BriGsh ExpediGonary Force once again, under its gallant Commander-in-Chief, Lord Gort. All this is in train; but in the interval we must put our defenses in this Island into such a high state of organizaGon that the fewest possible numbers will be required to give eﬀecGve security and that the largest possible potenGal of oﬀensive eﬀort may be realized. On this we are now engaged. It will be very convenient, if it be the desire of the House, to enter upon this subject in a secret Session. Not that the government would necessarily be able to reveal in very great detail military secrets, but we like to have our discussions free, without the restraint imposed by the fact that they will be read the next day by the enemy; and the Government would beneﬁt by views freely expressed in all parts of the House by Members with their knowledge of so many diﬀerent parts of the country. I understand that some request is to be made upon this subject, which will be readily acceded to by His Majesty\\'s Government. We have found it necessary to take measures of increasing stringency, not only against enemy aliens and suspicious characters of other naGonaliGes, but also against BriGsh subjects who may become a danger or a nuisance should the war be transported to the United Kingdom. I know there are a great many people aﬀected by the orders which we have made who are the passionate enemies of Nazi Germany. I am very sorry for them, but we cannot, at the present Gme and under the present stress, draw all the disGncGons which we should like to do. If parachute landings were a\\\\empted and ﬁerce ﬁghGng a\\\\endant upon them followed, these unfortunate people would be far be\\\\er out of the way, for their own sakes as well as for ours. There is, however, another class, for which I feel not the slightest sympathy. Parliament has given us the powers to put down FiSh Column acGviGes with a strong hand, and we shall use those powers subject to the '), Document(metadata={'source': './documents/churchill_speech.pdf', 'page': 5}, page_content=\"supervision and correcGon of the House, without the slightest hesitaGon unGl we are saGsﬁed, and more than saGsﬁed, that this malignancy in our midst has been eﬀecGvely stamped out. Turning once again, and this Gme more generally, to the quesGon of invasion, I would observe that there has never been a period in all these long centuries of which we boast when an absolute guarantee against invasion, sGll less against serious raids, could have been given to our people. In the days of Napoleon the same wind which would have carried his transports across the Channel might have driven away the blockading ﬂeet. There was always the chance, and it is that chance which has excited and befooled the imaginaGons of many ConGnental tyrants. Many are the tales that are told. We are assured that novel methods will be adopted, and when we see the originality of malice, the ingenuity of aggression, which our enemy displays, we may certainly prepare ourselves for every kind of novel stratagem and every kind of brutal and treacherous maneuver. I think that no idea is so outlandish that it should not be considered and viewed with a searching, but at the same Gme, I hope, with a steady eye. We must never forget the solid assurances of sea power and those which belong to air power if it can be locally exercised. I have, myself, full conﬁdence that if all do their duty, if nothing is neglected, and if the best arrangements are made, as they are being made, we shall prove ourselves once again able to defend our Island home, to ride out the storm of war, and to outlive the menace of tyranny, if necessary for years, if necessary alone. At any rate, that is what we are going to try to do. That is the resolve of His Majesty's Government-every man of them. That is the will of Parliament and the naGon. The BriGsh Empire and the French Republic, linked together in their cause and in their need, will defend to the death their naGve soil, aiding each other like good comrades to the utmost of their strength. Even though large tracts of Europe and many old and famous States have fallen or may fall into the grip of the Gestapo and all the odious apparatus of Nazi rule, we shall not ﬂag or fail. We shall go on to the end, we shall ﬁght in France, we shall ﬁght on the seas and oceans, we shall ﬁght with growing conﬁdence and growing strength in the air, we shall defend our Island, whatever the cost may be, we shall ﬁght on the beaches, we shall ﬁght on the landing grounds, we shall ﬁght in the ﬁelds and in the streets, we shall ﬁght in the hills; we shall never surrender, and even if, which I do not for a moment believe, this Island or a large part of it were subjugated and starving, then our Empire beyond the seas, armed and guarded by the BriGsh Fleet, would carry on the struggle, unGl, in God's good Gme, the New World, with all its power and might, steps forth to the rescue and the liberaGon of the old. \")]\n",
      "Loading ./documents/churchill_speech.docx\n",
      "[Document(metadata={'source': './documents/churchill_speech.docx'}, page_content='Winston Churchill Speech - We Shall Fight on the Beaches\\n\\nWe Shall Fight on the Beaches\\n\\nJune 4, 1940\\n\\nHouse of Commons\\n\\nFrom the moment that the French defenses at Sedan and on the Meuse were broken at the end of the\\n\\nsecond week of May, only a rapid retreat to Amiens and the south could have saved the British and\\n\\nFrench Armies who had entered Belgium at the appeal of the Belgian King; but this strategic fact was not immediately realized. The French High Command hoped they would be able to close the gap, and the Armies of the north were under their orders. Moreover, a retirement of this kind would have\\n\\ninvolved almost certainly the destruction of the fine Belgian Army of over 20 divisions and the\\n\\nabandonment of the whole of Belgium. Therefore, when the force and scope of the German\\n\\npenetration were realized and when a new French Generalissimo, General Weygand, assumed\\n\\ncommand in place of General Gamelin, an effort was made by the French and British Armies in\\n\\nBelgium to keep on holding the right hand of the Belgians and to give their own right hand to a newly created French Army which was to have advanced across the Somme in great strength to grasp it. However, the German eruption swept like a sharp scythe around the right and rear of the Armies of the north. Eight or nine armored divisions, each of about four hundred armored vehicles of different kinds, but carefully assorted to be complementary and divisible into small self-contained units, cut off all communications between us and the main French Armies. It severed our own communications for food and ammunition, which ran first to Amiens and afterwards through Abbeville, and it shore its way up the coast to Boulogne and Calais, and almost to Dunkirk. Behind this armored and mechanized onslaught came a number of German divisions in lorries, and behind them again there plodded comparatively slowly the dull brute mass of the ordinary German Army and German people, always so ready to be led to the trampling down in other lands of liberties and comforts which they have never known in their own.\\n\\nI have said this armored scythe-stroke almost reached Dunkirk-almost but not quite. Boulogne and\\n\\nCalais were the scenes of desperate fighting. The Guards defended Boulogne for a while and were\\n\\nthen withdrawn by orders from this country. The Rifle Brigade, the 60th Rifles, and the Queen\\n\\nVictoria\\'s Rifles, with a battalion of British tanks and 1,000 Frenchmen, in all about four thousand strong, defended Calais to the last. The British Brigadier was given an hour to surrender. He spurned the offer, and four days of intense street fighting passed before silence reigned over Calais, which marked the end of a memorable resistance. Only 30 unwounded survivors were brought off by the Navy, and we do not know the fate of their comrades. Their sacrifice, however, was not in vain. At least two armored divisions, which otherwise would have been turned against the British Expeditionary Force, had to be sent to overcome them. They have added another page to the glories of the light divisions, and the time gained enabled the Graveline water lines to be flooded and to be held by the French troops.\\n\\nThus it was that the port of Dunkirk was kept open. When it was found impossible for the Armies of\\n\\nthe north to reopen their communications to Amiens with the main French Armies, only one choice\\n\\nremained. It seemed, indeed, forlorn. The Belgian, British and French Armies were almost\\n\\nsurrounded. Their sole line of retreat was to a single port and to its neighboring beaches. They were pressed on every side by heavy attacks and far outnumbered in the air.\\n\\nWhen, a week ago today, I asked the House to fix this afternoon as the occasion for a statement, I\\n\\nfeared it would be my hard lot to announce the greatest military disaster in our long history. I\\n\\nthought-and some good judges agreed with me-that perhaps 20,000 or 30,000 men might be reembarked. But it certainly seemed that the whole of the French First Army and the whole of the\\n\\nBritish Expeditionary Force north of the Amiens-Abbeville gap would be broken up in the open field\\n\\nor else would have to capitulate for lack of food and ammunition. These were the hard and heavy\\n\\ntidings for which I called upon the House and the nation to prepare themselves a week ago. The whole root and core and brain of the British Army, on which and around which we were to build, and are to build, the great British Armies in the later years of the war, seemed about to perish upon the field or to be led into an ignominious and starving captivity.\\n\\nThat was the prospect a week ago. But another blow which might well have proved final was yet to\\n\\nfall upon us. The King of the Belgians had called upon us to come to his aid. Had not this Ruler and his Government severed themselves from the Allies, who rescued their country from extinction in the late war, and had they not sought refuge in what was proved to be a fatal neutrality, the French and British Armies might well at the outset have saved not only Belgium but perhaps even Poland. Yet at the last moment, when Belgium was already invaded, King Leopold called upon us to come to his aid, and even at the last moment we came. He and his brave, efficient Army, nearly half a million strong, guarded our left flank and thus kept open our only line of retreat to the sea. Suddenly, without prior consultation, with the least possible notice, without the advice of his Ministers and upon his own personal act, he sent a plenipotentiary to the German Command, surrendered his Army, and exposed our whole flank and means of retreat.\\n\\nI asked the House a week ago to suspend its judgment because the facts were not clear, but I do not\\n\\nfeel that any reason now exists why we should not form our own opinions upon this pitiful episode.\\n\\nThe surrender of the Belgian Army compelled the British at the shortest notice to cover a flank to the sea more than 30 miles in length. Otherwise all would have been cut off, and all would have shared the fate to which King Leopold had condemned the finest Army his country had ever formed. So in doing this and in exposing this flank, as anyone who followed the operations on the map will see, contact was lost between the British and two out of the three corps forming the First French Army, who were still farther from the coast than we were, and it seemed impossible that any large number of Allied troops could reach the coast.\\n\\nThe enemy attacked on all sides with great strength and fierceness, and their main power, the power\\n\\nof their far more numerous Air Force, was thrown into the battle or else concentrated upon Dunkirk\\n\\nand the beaches. Pressing in upon the narrow exit, both from the east and from the west, the enemy\\n\\nbegan to fire with cannon upon the beaches by which alone the shipping could approach or depart.\\n\\nThey sowed magnetic mines in the channels and seas; they sent repeated waves of hostile aircraft,\\n\\nsometimes more than a hundred strong in one formation, to cast their bombs upon the single pier that remained, and upon the sand dunes upon which the troops had their eyes for shelter. Their U-boats, one of which was sunk, and their motor launches took their toll of the vast traffic which now began. For four or five days an intense struggle reigned. All their armored divisions-or what Was left of them-together with great masses of infantry and artillery, hurled themselves in vain upon the evernarrowing, ever-contracting appendix within which the British and French Armies fought. Meanwhile, the Royal Navy, with the willing help of countless merchant seamen, strained every nerve to embark the British and Allied troops; 220 light warships and 650 other vessels were engaged. They had to operate upon the difficult coast, often in adverse weather, under an almost ceaseless hail of bombs and an increasing concentration of artillery fire. Nor were the seas, as I have said, themselves free from mines and torpedoes. It was in conditions such as these that our men carried on, with little or no rest, for days and nights on end, making trip after trip across the dangerous waters, bringing with them always men whom they had rescued. The numbers they have brought back are the measure of their devotion and their courage. The hospital ships, which brought off many thousands of British and French wounded, being so plainly marked were a special target for Nazi bombs; but the men and women on board them never faltered in their duty.\\n\\nMeanwhile, the Royal Air Force, which had already been intervening in the battle, so far as its range would allow, from home bases, now used part of its main metropolitan fighter strength, and struck at the German bombers and at the fighters which in large numbers protected them. This struggle was protracted and fierce. Suddenly the scene has cleared, the crash and thunder has for the moment-but only for the moment-died away. A miracle of deliverance, achieved by valor, by perseverance, by perfect discipline, by faultless service, by resource, by skill, by unconquerable fidelity, is manifest to us all. The enemy was hurled back by the retreating British and French troops. He was so roughly handled that he did not hurry their departure seriously. The Royal Air Force engaged the main strength of the German Air Force, and inflicted upon them losses of at least four to one; and the Navy, using nearly 1,000 ships of all kinds, carried over 335,000 men, French and British, out of the jaws of death and shame, to their native land and to the tasks which lie immediately ahead. We must be very careful not to assign to this deliverance the attributes of a victory. Wars are not won by evacuations. But there was a victory inside this deliverance, which should be noted. It was gained by the Air Force. Many of our soldiers coming back have not seen the Air Force at work; they saw only the bombers which escaped its protective attack. They underrate its achievements. I have heard much talk of this; that is why I go out of my way to say this. I will tell you about it. This was a great trial of strength between the British and German Air Forces. Can you conceive a greater objective for the Germans in the air than to make evacuation from these beaches impossible, and to sink all these ships which were displayed, almost to the extent of thousands? Could there have been an objective of greater military importance and significance for the whole purpose of the war than this? They tried hard, and they were beaten back; they were frustrated in their task. We got the Army away; and they have paid fourfold for any losses which they have inflicted. Very large formations of German aeroplanes-and we know that they are a very brave race-have turned on several occasions from the attack of one-quarter of their number of the Royal Air Force, and have dispersed in different directions. Twelve aeroplanes have been hunted by two. One aeroplane was driven into the water and cast away by the mere charge of a British aeroplane, which had no more ammunition. All of our types-the Hurricane, the Spitfire and the new Defiant-and all our pilots have been vindicated as superior to what they have at present to face. When we consider how much greater would be our advantage in defending the air above this Island against an overseas attack, I must say that I find in these facts a sure basis upon which practical and reassuring thoughts may rest. I will pay my tribute to these young airmen. The great French Army was very largely, for the time being, cast back and disturbed by the onrush of a few thousands of armored vehicles. May it not also be that the cause of civilization itself will be defended by the skill and devotion of a few thousand airmen? There never has been, I suppose, in all the world, in all the history of war, such an opportunity for youth. The Knights of the Round Table, the Crusaders, all fall back into the past-not only distant but prosaic; these young men, going forth every morn to guard their native land and all that we stand for, holding in their hands these instruments of colossal and shattering power, of whom it may be said that\\n\\nEvery morn brought forth a noble chance And every chance brought forth a noble knight,\\n\\ndeserve our gratitude, as do all the brave men who, in so many ways and on so many occasions, are\\n\\nready, and continue ready to give life and all for their native land.\\n\\nI return to the Army. In the long series of very fierce battles, now on this front, now on that, fighting on three fronts at once, battles fought by two or three divisions against an equal or somewhat larger number of the enemy, and fought fiercely on some of the old grounds that so many of us knew so wellin these battles our losses in men have exceeded 30,000 killed, wounded and missing. I take occasion to express the sympathy of the House to all who have suffered bereavement or who are still anxious. The President of the Board of Trade [Sir Andrew Duncan] is not here today. His son has been killed, and many in the House have felt the pangs of affliction in the sharpest form. But I will say this about the missing: We have had a large number of wounded come home safely to this country, but I would say about the missing that there may be very many reported missing who will come back home, some day, in one way or another. In the confusion of this fight it is inevitable that many have been left in positions where honor required no further resistance from them. Against this loss of over 30,000 men, we can set a far heavier loss certainly inflicted upon the enemy. But our losses in material are enormous. We have perhaps lost one-third of the men we lost in the opening days of the battle of 21st March, 1918, but we have lost nearly as many guns -- nearly one thousand-and all our transport, all the armored vehicles that were with the Army in the north. This loss will impose a further delay on the expansion of our military strength. That expansion had not been proceeding as far as we had hoped. The best of all we had to give had gone to the British Expeditionary Force, and although they had not the numbers of tanks and some articles of equipment which were desirable, they were a very well and finely equipped Army. They had the first-fruits of all that our industry had to give, and that is gone. And now here is this further delay. How long it will be, how long it will last, depends upon the exertions which we make in this Island. An effort the like of which has never been seen in our records is now being made. Work is proceeding everywhere, night and day, Sundays and week days. Capital and Labor have cast aside their interests, rights, and customs and put them into the common stock. Already the flow of munitions has leaped forward.\\n\\nThere is no reason why we should not in a few months overtake the sudden and serious loss that has\\n\\ncome upon us, without retarding the development of our general program.\\n\\nNevertheless, our thankfulness at the escape of our Army and so many men, whose loved ones have\\n\\npassed through an agonizing week, must not blind us to the fact that what has happened in France\\n\\nand Belgium is a colossal military disaster. The French Army has been weakened, the Belgian Army\\n\\nhas been lost, a large part of those fortified lines upon which so much faith had been reposed is gone, many valuable mining districts and factories have passed into the enemy\\'s possession, the whole of the Channel ports are in his hands, with all the tragic consequences that follow from that, and we must expect another blow to be struck almost immediately at us or at France. We are told that Herr Hitler has a plan for invading the British Isles. This has often been thought of before. When Napoleon lay at Boulogne for a year with his flat-bottomed boats and his Grand Army, he was told by someone. \"There are bitter weeds in England.\" There are certainly a great many more of them since the British Expeditionary Force returned.\\n\\nThe whole question of home defense against invasion is, of course, powerfully affected by the fact that we have for the time being in this Island incomparably more powerful military forces than we have ever had at any moment in this war or the last. But this will not continue. We shall not be content with a defensive war. We have our duty to our Ally. We have to reconstitute and build up the British Expeditionary Force once again, under its gallant Commander-in-Chief, Lord Gort. All this is in train; but in the interval we must put our defenses in this Island into such a high state of organization that the fewest possible numbers will be required to give effective security and that the largest possible potential of offensive effort may be realized. On this we are now engaged. It will be very convenient, if it be the desire of the House, to enter upon this subject in a secret Session. Not that the government would necessarily be able to reveal in very great detail military secrets, but we like to have our discussions free, without the restraint imposed by the fact that they will be read the next day by the enemy; and the Government would benefit by views freely expressed in all parts of the House by Members with their knowledge of so many different parts of the country. I understand that some request is to be made upon this subject, which will be readily acceded to by His Majesty\\'s Government. We have found it necessary to take measures of increasing stringency, not only against enemy aliens and suspicious characters of other nationalities, but also against British subjects who may become a danger or a nuisance should the war be transported to the United Kingdom. I know there are a great many people affected by the orders which we have made who are the passionate enemies of Nazi Germany. I am very sorry for them, but we cannot, at the present time and under the present stress, draw all the distinctions which we should like to do. If parachute landings were attempted and fierce fighting attendant upon them followed, these unfortunate people would be far better out of the way, for their own sakes as well as for ours. There is, however, another class, for which I feel not the slightest sympathy. Parliament has given us the powers to put down Fifth Column activities with a strong hand, and we shall use those powers subject to the supervision and correction of the House, without the slightest hesitation until we are satisfied, and more than satisfied, that this malignancy in our midst has been effectively stamped out.\\n\\nTurning once again, and this time more generally, to the question of invasion, I would observe that\\n\\nthere has never been a period in all these long centuries of which we boast when an absolute\\n\\nguarantee against invasion, still less against serious raids, could have been given to our people. In the days of Napoleon the same wind which would have carried his transports across the Channel might have driven away the blockading fleet. There was always the chance, and it is that chance which has excited and befooled the imaginations of many Continental tyrants. Many are the tales that are told. We are assured that novel methods will be adopted, and when we see the originality of malice, the ingenuity of aggression, which our enemy displays, we may certainly prepare ourselves for every kind of novel stratagem and every kind of brutal and treacherous maneuver. I think that no idea is so outlandish that it should not be considered and viewed with a searching, but at the same time, I hope, with a steady eye. We must never forget the solid assurances of sea power and those which belong to air power if it can be locally exercised. I have, myself, full confidence that if all do their duty, if nothing is neglected, and if the best arrangements are made, as they are being made, we shall prove ourselves once again able to defend our Island home, to ride out the storm of war, and to outlive the menace of tyranny, if necessary for years, if necessary alone. At any rate, that is what we are going to try to do. That is the resolve of His Majesty\\'s Government-every man of them. That is the will of Parliament and the nation. The British Empire and the French Republic, linked together in their cause and in their need, will defend to the death their native soil, aiding each other like good comrades to the utmost of their strength. Even though large tracts of Europe and many old and famous States have fallen or may fall into the grip of the Gestapo and all the odious apparatus of Nazi rule, we shall not flag or fail. We shall go on to the end, we shall fight in France, we shall fight on the seas and oceans, we shall fight with growing confidence and growing strength in the air, we shall defend our Island, whatever the cost may be, we shall fight on the beaches, we shall fight on the landing grounds, we shall fight in the fields and in the streets, we shall fight in the hills; we shall never surrender, and even if, which I do not for a moment believe, this Island or a large part of it were subjugated and starving, then our Empire beyond the seas, armed and guarded by the British Fleet, would carry on the struggle, until, in God\\'s good time, the New World, with all its power and might, steps forth to the rescue and the liberation of the old.')]\n",
      "[Document(metadata={'source': './documents/churchill_speech.txt'}, page_content='Winston Churchill Speech - We Shall Fight on the Beaches\\nWe Shall Fight on the Beaches\\nJune 4, 1940\\nHouse of Commons\\nFrom the moment that the French defenses at Sedan and on the Meuse were broken at the end of the\\nsecond week of May, only a rapid retreat to Amiens and the south could have saved the British and\\nFrench Armies who had entered Belgium at the appeal of the Belgian King; but this strategic fact was\\nnot immediately realized. The French High Command hoped they would be able to close the gap, and\\nthe Armies of the north were under their orders. Moreover, a retirement of this kind would have\\ninvolved almost certainly the destruction of the fine Belgian Army of over 20 divisions and the\\nabandonment of the whole of Belgium. Therefore, when the force and scope of the German\\npenetration were realized and when a new French Generalissimo, General Weygand, assumed\\ncommand in place of General Gamelin, an effort was made by the French and British Armies in\\nBelgium to keep on holding the right hand of the Belgians and to give their own right hand to a newly\\ncreated French Army which was to have advanced across the Somme in great strength to grasp it.\\nHowever, the German eruption swept like a sharp scythe around the right and rear of the Armies of\\nthe north. Eight or nine armored divisions, each of about four hundred armored vehicles of different\\nkinds, but carefully assorted to be complementary and divisible into small self-contained units, cut off\\nall communications between us and the main French Armies. It severed our own communications for\\nfood and ammunition, which ran first to Amiens and afterwards through Abbeville, and it shore its\\nway up the coast to Boulogne and Calais, and almost to Dunkirk. Behind this armored and\\nmechanized onslaught came a number of German divisions in lorries, and behind them again there\\nplodded comparatively slowly the dull brute mass of the ordinary German Army and German people,\\nalways so ready to be led to the trampling down in other lands of liberties and comforts which they\\nhave never known in their own.\\nI have said this armored scythe-stroke almost reached Dunkirk-almost but not quite. Boulogne and\\nCalais were the scenes of desperate fighting. The Guards defended Boulogne for a while and were\\nthen withdrawn by orders from this country. The Rifle Brigade, the 60th Rifles, and the Queen\\nVictoria\\'s Rifles, with a battalion of British tanks and 1,000 Frenchmen, in all about four thousand\\nstrong, defended Calais to the last. The British Brigadier was given an hour to surrender. He spurned\\nthe offer, and four days of intense street fighting passed before silence reigned over Calais, which\\nmarked the end of a memorable resistance. Only 30 unwounded survivors were brought off by the\\nNavy, and we do not know the fate of their comrades. Their sacrifice, however, was not in vain. At\\nleast two armored divisions, which otherwise would have been turned against the British\\nExpeditionary Force, had to be sent to overcome them. They have added another page to the glories\\nof the light divisions, and the time gained enabled the Graveline water lines to be flooded and to be\\nheld by the French troops.\\nThus it was that the port of Dunkirk was kept open. When it was found impossible for the Armies of\\nthe north to reopen their communications to Amiens with the main French Armies, only one choice\\nremained. It seemed, indeed, forlorn. The Belgian, British and French Armies were almost\\nsurrounded. Their sole line of retreat was to a single port and to its neighboring beaches. They were\\npressed on every side by heavy attacks and far outnumbered in the air.\\nWhen, a week ago today, I asked the House to fix this afternoon as the occasion for a statement, I\\nfeared it would be my hard lot to announce the greatest military disaster in our long history. I\\nthought-and some good judges agreed with me-that perhaps 20,000 or 30,000 men might be reembarked. But it certainly seemed that the whole of the French First Army and the whole of the\\nBritish Expeditionary Force north of the Amiens-Abbeville gap would be broken up in the open field\\nor else would have to capitulate for lack of food and ammunition. These were the hard and heavy\\ntidings for which I called upon the House and the nation to prepare themselves a week ago. The whole\\nroot and core and brain of the British Army, on which and around which we were to build, and are to\\nbuild, the great British Armies in the later years of the war, seemed about to perish upon the field or\\nto be led into an ignominious and starving captivity.\\nThat was the prospect a week ago. But another blow which might well have proved final was yet to\\nfall upon us. The King of the Belgians had called upon us to come to his aid. Had not this Ruler and\\nhis Government severed themselves from the Allies, who rescued their country from extinction in the\\nlate war, and had they not sought refuge in what was proved to be a fatal neutrality, the French and\\nBritish Armies might well at the outset have saved not only Belgium but perhaps even Poland. Yet at\\nthe last moment, when Belgium was already invaded, King Leopold called upon us to come to his aid,\\nand even at the last moment we came. He and his brave, efficient Army, nearly half a million strong,\\nguarded our left flank and thus kept open our only line of retreat to the sea. Suddenly, without prior\\nconsultation, with the least possible notice, without the advice of his Ministers and upon his own\\npersonal act, he sent a plenipotentiary to the German Command, surrendered his Army, and exposed\\nour whole flank and means of retreat.\\nI asked the House a week ago to suspend its judgment because the facts were not clear, but I do not\\nfeel that any reason now exists why we should not form our own opinions upon this pitiful episode.\\nThe surrender of the Belgian Army compelled the British at the shortest notice to cover a flank to the\\nsea more than 30 miles in length. Otherwise all would have been cut off, and all would have shared\\nthe fate to which King Leopold had condemned the finest Army his country had ever formed. So in\\ndoing this and in exposing this flank, as anyone who followed the operations on the map will see,\\ncontact was lost between the British and two out of the three corps forming the First French Army,\\nwho were still farther from the coast than we were, and it seemed impossible that any large number of\\nAllied troops could reach the coast.\\nThe enemy attacked on all sides with great strength and fierceness, and their main power, the power\\nof their far more numerous Air Force, was thrown into the battle or else concentrated upon Dunkirk\\nand the beaches. Pressing in upon the narrow exit, both from the east and from the west, the enemy\\nbegan to fire with cannon upon the beaches by which alone the shipping could approach or depart.\\nThey sowed magnetic mines in the channels and seas; they sent repeated waves of hostile aircraft,\\nsometimes more than a hundred strong in one formation, to cast their bombs upon the single pier that\\nremained, and upon the sand dunes upon which the troops had their eyes for shelter. Their U-boats,\\none of which was sunk, and their motor launches took their toll of the vast traffic which now began.\\nFor four or five days an intense struggle reigned. All their armored divisions-or what Was left of\\nthem-together with great masses of infantry and artillery, hurled themselves in vain upon the evernarrowing, ever-contracting appendix within which the British and French Armies fought.\\nMeanwhile, the Royal Navy, with the willing help of countless merchant seamen, strained every nerve\\nto embark the British and Allied troops; 220 light warships and 650 other vessels were engaged. They\\nhad to operate upon the difficult coast, often in adverse weather, under an almost ceaseless hail of\\nbombs and an increasing concentration of artillery fire. Nor were the seas, as I have said, themselves\\nfree from mines and torpedoes. It was in conditions such as these that our men carried on, with little\\nor no rest, for days and nights on end, making trip after trip across the dangerous waters, bringing\\nwith them always men whom they had rescued. The numbers they have brought back are the measure\\nof their devotion and their courage. The hospital ships, which brought off many thousands of British\\nand French wounded, being so plainly marked were a special target for Nazi bombs; but the men and\\nwomen on board them never faltered in their duty.\\nMeanwhile, the Royal Air Force, which had already been intervening in the battle, so far as its range\\nwould allow, from home bases, now used part of its main metropolitan fighter strength, and struck at\\nthe German bombers and at the fighters which in large numbers protected them. This struggle was\\nprotracted and fierce. Suddenly the scene has cleared, the crash and thunder has for the moment-but\\nonly for the moment-died away. A miracle of deliverance, achieved by valor, by perseverance, by\\nperfect discipline, by faultless service, by resource, by skill, by unconquerable fidelity, is manifest to\\nus all. The enemy was hurled back by the retreating British and French troops. He was so roughly\\nhandled that he did not hurry their departure seriously. The Royal Air Force engaged the main\\nstrength of the German Air Force, and inflicted upon them losses of at least four to one; and the\\nNavy, using nearly 1,000 ships of all kinds, carried over 335,000 men, French and British, out of the\\njaws of death and shame, to their native land and to the tasks which lie immediately ahead. We must\\nbe very careful not to assign to this deliverance the attributes of a victory. Wars are not won by\\nevacuations. But there was a victory inside this deliverance, which should be noted. It was gained by\\nthe Air Force. Many of our soldiers coming back have not seen the Air Force at work; they saw only\\nthe bombers which escaped its protective attack. They underrate its achievements. I have heard much\\ntalk of this; that is why I go out of my way to say this. I will tell you about it.\\nThis was a great trial of strength between the British and German Air Forces. Can you conceive a\\ngreater objective for the Germans in the air than to make evacuation from these beaches impossible,\\nand to sink all these ships which were displayed, almost to the extent of thousands? Could there have\\nbeen an objective of greater military importance and significance for the whole purpose of the war\\nthan this? They tried hard, and they were beaten back; they were frustrated in their task. We got the\\nArmy away; and they have paid fourfold for any losses which they have inflicted. Very large\\nformations of German aeroplanes-and we know that they are a very brave race-have turned on\\nseveral occasions from the attack of one-quarter of their number of the Royal Air Force, and have\\ndispersed in different directions. Twelve aeroplanes have been hunted by two. One aeroplane was\\ndriven into the water and cast away by the mere charge of a British aeroplane, which had no more\\nammunition. All of our types-the Hurricane, the Spitfire and the new Defiant-and all our pilots have\\nbeen vindicated as superior to what they have at present to face.\\nWhen we consider how much greater would be our advantage in defending the air above this Island\\nagainst an overseas attack, I must say that I find in these facts a sure basis upon which practical and\\nreassuring thoughts may rest. I will pay my tribute to these young airmen. The great French Army\\nwas very largely, for the time being, cast back and disturbed by the onrush of a few thousands of\\narmored vehicles. May it not also be that the cause of civilization itself will be defended by the skill\\nand devotion of a few thousand airmen? There never has been, I suppose, in all the world, in all the\\nhistory of war, such an opportunity for youth. The Knights of the Round Table, the Crusaders, all fall\\nback into the past-not only distant but prosaic; these young men, going forth every morn to guard\\ntheir native land and all that we stand for, holding in their hands these instruments of colossal and\\nshattering power, of whom it may be said that\\nEvery morn brought forth a noble chance\\nAnd every chance brought forth a noble knight,\\ndeserve our gratitude, as do all the brave men who, in so many ways and on so many occasions, are\\nready, and continue ready to give life and all for their native land.\\nI return to the Army. In the long series of very fierce battles, now on this front, now on that, fighting\\non three fronts at once, battles fought by two or three divisions against an equal or somewhat larger\\nnumber of the enemy, and fought fiercely on some of the old grounds that so many of us knew so wellin these battles our losses in men have exceeded 30,000 killed, wounded and missing. I take occasion\\nto express the sympathy of the House to all who have suffered bereavement or who are still anxious.\\nThe President of the Board of Trade [Sir Andrew Duncan] is not here today. His son has been killed,\\nand many in the House have felt the pangs of affliction in the sharpest form. But I will say this about\\nthe missing: We have had a large number of wounded come home safely to this country, but I would\\nsay about the missing that there may be very many reported missing who will come back home, some\\nday, in one way or another. In the confusion of this fight it is inevitable that many have been left in\\npositions where honor required no further resistance from them.\\nAgainst this loss of over 30,000 men, we can set a far heavier loss certainly inflicted upon the enemy.\\nBut our losses in material are enormous. We have perhaps lost one-third of the men we lost in the\\nopening days of the battle of 21st March, 1918, but we have lost nearly as many guns -- nearly one\\nthousand-and all our transport, all the armored vehicles that were with the Army in the north. This\\nloss will impose a further delay on the expansion of our military strength. That expansion had not\\nbeen proceeding as far as we had hoped. The best of all we had to give had gone to the British\\nExpeditionary Force, and although they had not the numbers of tanks and some articles of equipment\\nwhich were desirable, they were a very well and finely equipped Army. They had the first-fruits of all\\nthat our industry had to give, and that is gone. And now here is this further delay. How long it will be,\\nhow long it will last, depends upon the exertions which we make in this Island. An effort the like of\\nwhich has never been seen in our records is now being made. Work is proceeding everywhere, night\\nand day, Sundays and week days. Capital and Labor have cast aside their interests, rights, and\\ncustoms and put them into the common stock. Already the flow of munitions has leaped forward.\\nThere is no reason why we should not in a few months overtake the sudden and serious loss that has\\ncome upon us, without retarding the development of our general program.\\nNevertheless, our thankfulness at the escape of our Army and so many men, whose loved ones have\\npassed through an agonizing week, must not blind us to the fact that what has happened in France\\nand Belgium is a colossal military disaster. The French Army has been weakened, the Belgian Army\\nhas been lost, a large part of those fortified lines upon which so much faith had been reposed is gone,\\nmany valuable mining districts and factories have passed into the enemy\\'s possession, the whole of the\\nChannel ports are in his hands, with all the tragic consequences that follow from that, and we must\\nexpect another blow to be struck almost immediately at us or at France. We are told that Herr Hitler\\nhas a plan for invading the British Isles. This has often been thought of before. When Napoleon lay at\\nBoulogne for a year with his flat-bottomed boats and his Grand Army, he was told by someone.\\n\"There are bitter weeds in England.\" There are certainly a great many more of them since the British\\nExpeditionary Force returned.\\nThe whole question of home defense against invasion is, of course, powerfully affected by the fact that\\nwe have for the time being in this Island incomparably more powerful military forces than we have\\never had at any moment in this war or the last. But this will not continue. We shall not be content\\nwith a defensive war. We have our duty to our Ally. We have to reconstitute and build up the British\\nExpeditionary Force once again, under its gallant Commander-in-Chief, Lord Gort. All this is in\\ntrain; but in the interval we must put our defenses in this Island into such a high state of organization\\nthat the fewest possible numbers will be required to give effective security and that the largest\\npossible potential of offensive effort may be realized. On this we are now engaged. It will be very\\nconvenient, if it be the desire of the House, to enter upon this subject in a secret Session. Not that the\\ngovernment would necessarily be able to reveal in very great detail military secrets, but we like to\\nhave our discussions free, without the restraint imposed by the fact that they will be read the next day\\nby the enemy; and the Government would benefit by views freely expressed in all parts of the House\\nby Members with their knowledge of so many different parts of the country. I understand that some\\nrequest is to be made upon this subject, which will be readily acceded to by His Majesty\\'s\\nGovernment.\\nWe have found it necessary to take measures of increasing stringency, not only against enemy aliens\\nand suspicious characters of other nationalities, but also against British subjects who may become a\\ndanger or a nuisance should the war be transported to the United Kingdom. I know there are a great\\nmany people affected by the orders which we have made who are the passionate enemies of Nazi\\nGermany. I am very sorry for them, but we cannot, at the present time and under the present stress,\\ndraw all the distinctions which we should like to do. If parachute landings were attempted and fierce\\nfighting attendant upon them followed, these unfortunate people would be far better out of the way,\\nfor their own sakes as well as for ours. There is, however, another class, for which I feel not the\\nslightest sympathy. Parliament has given us the powers to put down Fifth Column activities with a\\nstrong hand, and we shall use those powers subject to the supervision and correction of the House,\\nwithout the slightest hesitation until we are satisfied, and more than satisfied, that this malignancy in\\nour midst has been effectively stamped out.\\nTurning once again, and this time more generally, to the question of invasion, I would observe that\\nthere has never been a period in all these long centuries of which we boast when an absolute\\nguarantee against invasion, still less against serious raids, could have been given to our people. In the\\ndays of Napoleon the same wind which would have carried his transports across the Channel might\\nhave driven away the blockading fleet. There was always the chance, and it is that chance which has\\nexcited and befooled the imaginations of many Continental tyrants. Many are the tales that are told.\\nWe are assured that novel methods will be adopted, and when we see the originality of malice, the\\ningenuity of aggression, which our enemy displays, we may certainly prepare ourselves for every kind\\nof novel stratagem and every kind of brutal and treacherous maneuver. I think that no idea is so\\noutlandish that it should not be considered and viewed with a searching, but at the same time, I hope,\\nwith a steady eye. We must never forget the solid assurances of sea power and those which belong to\\nair power if it can be locally exercised.\\nI have, myself, full confidence that if all do their duty, if nothing is neglected, and if the best\\narrangements are made, as they are being made, we shall prove ourselves once again able to defend\\nour Island home, to ride out the storm of war, and to outlive the menace of tyranny, if necessary for\\nyears, if necessary alone. At any rate, that is what we are going to try to do. That is the resolve of His\\nMajesty\\'s Government-every man of them. That is the will of Parliament and the nation. The British\\nEmpire and the French Republic, linked together in their cause and in their need, will defend to the\\ndeath their native soil, aiding each other like good comrades to the utmost of their strength. Even\\nthough large tracts of Europe and many old and famous States have fallen or may fall into the grip of\\nthe Gestapo and all the odious apparatus of Nazi rule, we shall not flag or fail. We shall go on to the\\nend, we shall fight in France, we shall fight on the seas and oceans, we shall fight with growing\\nconfidence and growing strength in the air, we shall defend our Island, whatever the cost may be, we\\nshall fight on the beaches, we shall fight on the landing grounds, we shall fight in the fields and in the\\nstreets, we shall fight in the hills; we shall never surrender, and even if, which I do not for a moment\\nbelieve, this Island or a large part of it were subjugated and starving, then our Empire beyond the\\nseas, armed and guarded by the British Fleet, would carry on the struggle, until, in God\\'s good time,\\nthe New World, with all its power and might, steps forth to the rescue and the liberation of the old.')]\n"
     ]
    }
   ],
   "source": [
    "pdf_file=\"./documents/churchill_speech.pdf\"\n",
    "docx_file=\"./documents/churchill_speech.docx\"\n",
    "text_file=\"./documents/churchill_speech.txt\"\n",
    "\n",
    "print(load_document(pdf_file))\n",
    "print(load_document(docx_file))\n",
    "print(load_document(text_file))"
   ]
  },
  {
   "cell_type": "markdown",
   "id": "367bb8ad",
   "metadata": {},
   "source": [
    "### Chunking Data"
   ]
  },
  {
   "cell_type": "code",
   "execution_count": 32,
   "id": "62c3cb39",
   "metadata": {},
   "outputs": [],
   "source": [
    "def chunk_data(data, chunk_size=256):\n",
    "    # Find how to load a built-in document transformers that make it easy to split with https://python.langchain.com/docs/modules/data_connection/document_transformers/\n",
    "    text_splitter = RecursiveCharacterTextSplitter(\n",
    "        chunk_size=256, # maximum size of text chunk \n",
    "        chunk_overlap=10, # Specifies overlapping characters between chunks.\n",
    "    )\n",
    "    # chunks = split the data into chunks\n",
    "    chunks = text_splitter.create_documents([data])\n",
    "    # Verification\n",
    "    if len(chunks) != 0:\n",
    "        print(f'We have {len(chunks)} chunks')\n",
    "        return chunks\n",
    "    else:\n",
    "        print('Document is not split')\n",
    "        return None\n",
    "    "
   ]
  },
  {
   "cell_type": "markdown",
   "id": "f1836be9-061f-4bd3-a342-ae5e57ffc626",
   "metadata": {},
   "source": [
    "#### Verification"
   ]
  },
  {
   "cell_type": "code",
   "execution_count": 33,
   "id": "1885a99d-34c9-4cd9-808e-a8da3927705d",
   "metadata": {},
   "outputs": [
    {
     "name": "stdout",
     "output_type": "stream",
     "text": [
      "We have 88 chunks\n"
     ]
    }
   ],
   "source": [
    "data = load_document(text_file)\n",
    "chunks = chunk_data(str(data))"
   ]
  },
  {
   "cell_type": "markdown",
   "id": "27f92afa",
   "metadata": {},
   "source": [
    "### Embedding and Uploading to a Vector Database (Pinecone)"
   ]
  },
  {
   "cell_type": "code",
   "execution_count": 36,
   "id": "ff90ae6f-9d52-45b6-91ce-90bce5067065",
   "metadata": {},
   "outputs": [
    {
     "name": "stdout",
     "output_type": "stream",
     "text": [
      "Requirement already satisfied: langchain-cohere in c:\\users\\najiy\\onedrive\\bureau\\llm\\workshop-ai-tp\\env-tp\\lib\\site-packages (0.1.9)\n",
      "Requirement already satisfied: cohere<6.0,>=5.5.6 in c:\\users\\najiy\\onedrive\\bureau\\llm\\workshop-ai-tp\\env-tp\\lib\\site-packages (from langchain-cohere) (5.5.8)\n",
      "Requirement already satisfied: langchain-core<0.3,>=0.2.2 in c:\\users\\najiy\\onedrive\\bureau\\llm\\workshop-ai-tp\\env-tp\\lib\\site-packages (from langchain-cohere) (0.2.12)\n",
      "Requirement already satisfied: langchain-experimental>=0.0.6 in c:\\users\\najiy\\onedrive\\bureau\\llm\\workshop-ai-tp\\env-tp\\lib\\site-packages (from langchain-cohere) (0.0.62)\n",
      "Requirement already satisfied: pandas>=1.4.3 in c:\\users\\najiy\\onedrive\\bureau\\llm\\workshop-ai-tp\\env-tp\\lib\\site-packages (from langchain-cohere) (2.2.2)\n",
      "Requirement already satisfied: tabulate<0.10.0,>=0.9.0 in c:\\users\\najiy\\onedrive\\bureau\\llm\\workshop-ai-tp\\env-tp\\lib\\site-packages (from langchain-cohere) (0.9.0)\n",
      "Requirement already satisfied: boto3<2.0.0,>=1.34.0 in c:\\users\\najiy\\onedrive\\bureau\\llm\\workshop-ai-tp\\env-tp\\lib\\site-packages (from cohere<6.0,>=5.5.6->langchain-cohere) (1.34.143)\n",
      "Requirement already satisfied: fastavro<2.0.0,>=1.9.4 in c:\\users\\najiy\\onedrive\\bureau\\llm\\workshop-ai-tp\\env-tp\\lib\\site-packages (from cohere<6.0,>=5.5.6->langchain-cohere) (1.9.5)\n",
      "Requirement already satisfied: httpx>=0.21.2 in c:\\users\\najiy\\onedrive\\bureau\\llm\\workshop-ai-tp\\env-tp\\lib\\site-packages (from cohere<6.0,>=5.5.6->langchain-cohere) (0.27.0)\n",
      "Requirement already satisfied: httpx-sse<0.5.0,>=0.4.0 in c:\\users\\najiy\\onedrive\\bureau\\llm\\workshop-ai-tp\\env-tp\\lib\\site-packages (from cohere<6.0,>=5.5.6->langchain-cohere) (0.4.0)\n",
      "Requirement already satisfied: parameterized<0.10.0,>=0.9.0 in c:\\users\\najiy\\onedrive\\bureau\\llm\\workshop-ai-tp\\env-tp\\lib\\site-packages (from cohere<6.0,>=5.5.6->langchain-cohere) (0.9.0)\n",
      "Requirement already satisfied: pydantic>=1.9.2 in c:\\users\\najiy\\onedrive\\bureau\\llm\\workshop-ai-tp\\env-tp\\lib\\site-packages (from cohere<6.0,>=5.5.6->langchain-cohere) (2.8.2)\n",
      "Requirement already satisfied: requests<3.0.0,>=2.0.0 in c:\\users\\najiy\\onedrive\\bureau\\llm\\workshop-ai-tp\\env-tp\\lib\\site-packages (from cohere<6.0,>=5.5.6->langchain-cohere) (2.32.3)\n",
      "Requirement already satisfied: tokenizers<1,>=0.15 in c:\\users\\najiy\\onedrive\\bureau\\llm\\workshop-ai-tp\\env-tp\\lib\\site-packages (from cohere<6.0,>=5.5.6->langchain-cohere) (0.19.1)\n",
      "Requirement already satisfied: types-requests<3.0.0,>=2.0.0 in c:\\users\\najiy\\onedrive\\bureau\\llm\\workshop-ai-tp\\env-tp\\lib\\site-packages (from cohere<6.0,>=5.5.6->langchain-cohere) (2.32.0.20240622)\n",
      "Requirement already satisfied: typing_extensions>=4.0.0 in c:\\users\\najiy\\onedrive\\bureau\\llm\\workshop-ai-tp\\env-tp\\lib\\site-packages (from cohere<6.0,>=5.5.6->langchain-cohere) (4.12.2)\n",
      "Requirement already satisfied: PyYAML>=5.3 in c:\\users\\najiy\\onedrive\\bureau\\llm\\workshop-ai-tp\\env-tp\\lib\\site-packages (from langchain-core<0.3,>=0.2.2->langchain-cohere) (6.0.1)\n",
      "Requirement already satisfied: jsonpatch<2.0,>=1.33 in c:\\users\\najiy\\onedrive\\bureau\\llm\\workshop-ai-tp\\env-tp\\lib\\site-packages (from langchain-core<0.3,>=0.2.2->langchain-cohere) (1.33)\n",
      "Requirement already satisfied: langsmith<0.2.0,>=0.1.75 in c:\\users\\najiy\\onedrive\\bureau\\llm\\workshop-ai-tp\\env-tp\\lib\\site-packages (from langchain-core<0.3,>=0.2.2->langchain-cohere) (0.1.85)\n",
      "Requirement already satisfied: packaging<25,>=23.2 in c:\\users\\najiy\\onedrive\\bureau\\llm\\workshop-ai-tp\\env-tp\\lib\\site-packages (from langchain-core<0.3,>=0.2.2->langchain-cohere) (24.1)\n",
      "Requirement already satisfied: tenacity!=8.4.0,<9.0.0,>=8.1.0 in c:\\users\\najiy\\onedrive\\bureau\\llm\\workshop-ai-tp\\env-tp\\lib\\site-packages (from langchain-core<0.3,>=0.2.2->langchain-cohere) (8.5.0)\n",
      "Requirement already satisfied: langchain-community<0.3.0,>=0.2.6 in c:\\users\\najiy\\onedrive\\bureau\\llm\\workshop-ai-tp\\env-tp\\lib\\site-packages (from langchain-experimental>=0.0.6->langchain-cohere) (0.2.7)\n",
      "Requirement already satisfied: numpy>=1.26.0 in c:\\users\\najiy\\onedrive\\bureau\\llm\\workshop-ai-tp\\env-tp\\lib\\site-packages (from pandas>=1.4.3->langchain-cohere) (1.26.4)\n",
      "Requirement already satisfied: python-dateutil>=2.8.2 in c:\\users\\najiy\\onedrive\\bureau\\llm\\workshop-ai-tp\\env-tp\\lib\\site-packages (from pandas>=1.4.3->langchain-cohere) (2.9.0.post0)\n",
      "Requirement already satisfied: pytz>=2020.1 in c:\\users\\najiy\\onedrive\\bureau\\llm\\workshop-ai-tp\\env-tp\\lib\\site-packages (from pandas>=1.4.3->langchain-cohere) (2024.1)\n",
      "Requirement already satisfied: tzdata>=2022.7 in c:\\users\\najiy\\onedrive\\bureau\\llm\\workshop-ai-tp\\env-tp\\lib\\site-packages (from pandas>=1.4.3->langchain-cohere) (2024.1)\n",
      "Requirement already satisfied: botocore<1.35.0,>=1.34.143 in c:\\users\\najiy\\onedrive\\bureau\\llm\\workshop-ai-tp\\env-tp\\lib\\site-packages (from boto3<2.0.0,>=1.34.0->cohere<6.0,>=5.5.6->langchain-cohere) (1.34.143)\n",
      "Requirement already satisfied: jmespath<2.0.0,>=0.7.1 in c:\\users\\najiy\\onedrive\\bureau\\llm\\workshop-ai-tp\\env-tp\\lib\\site-packages (from boto3<2.0.0,>=1.34.0->cohere<6.0,>=5.5.6->langchain-cohere) (1.0.1)\n",
      "Requirement already satisfied: s3transfer<0.11.0,>=0.10.0 in c:\\users\\najiy\\onedrive\\bureau\\llm\\workshop-ai-tp\\env-tp\\lib\\site-packages (from boto3<2.0.0,>=1.34.0->cohere<6.0,>=5.5.6->langchain-cohere) (0.10.2)\n",
      "Requirement already satisfied: anyio in c:\\users\\najiy\\onedrive\\bureau\\llm\\workshop-ai-tp\\env-tp\\lib\\site-packages (from httpx>=0.21.2->cohere<6.0,>=5.5.6->langchain-cohere) (4.4.0)\n",
      "Requirement already satisfied: certifi in c:\\users\\najiy\\onedrive\\bureau\\llm\\workshop-ai-tp\\env-tp\\lib\\site-packages (from httpx>=0.21.2->cohere<6.0,>=5.5.6->langchain-cohere) (2024.7.4)\n",
      "Requirement already satisfied: httpcore==1.* in c:\\users\\najiy\\onedrive\\bureau\\llm\\workshop-ai-tp\\env-tp\\lib\\site-packages (from httpx>=0.21.2->cohere<6.0,>=5.5.6->langchain-cohere) (1.0.5)\n",
      "Requirement already satisfied: idna in c:\\users\\najiy\\onedrive\\bureau\\llm\\workshop-ai-tp\\env-tp\\lib\\site-packages (from httpx>=0.21.2->cohere<6.0,>=5.5.6->langchain-cohere) (3.7)\n",
      "Requirement already satisfied: sniffio in c:\\users\\najiy\\onedrive\\bureau\\llm\\workshop-ai-tp\\env-tp\\lib\\site-packages (from httpx>=0.21.2->cohere<6.0,>=5.5.6->langchain-cohere) (1.3.1)\n",
      "Requirement already satisfied: h11<0.15,>=0.13 in c:\\users\\najiy\\onedrive\\bureau\\llm\\workshop-ai-tp\\env-tp\\lib\\site-packages (from httpcore==1.*->httpx>=0.21.2->cohere<6.0,>=5.5.6->langchain-cohere) (0.14.0)\n",
      "Requirement already satisfied: jsonpointer>=1.9 in c:\\users\\najiy\\onedrive\\bureau\\llm\\workshop-ai-tp\\env-tp\\lib\\site-packages (from jsonpatch<2.0,>=1.33->langchain-core<0.3,>=0.2.2->langchain-cohere) (3.0.0)\n",
      "Requirement already satisfied: SQLAlchemy<3,>=1.4 in c:\\users\\najiy\\onedrive\\bureau\\llm\\workshop-ai-tp\\env-tp\\lib\\site-packages (from langchain-community<0.3.0,>=0.2.6->langchain-experimental>=0.0.6->langchain-cohere) (2.0.31)\n",
      "Requirement already satisfied: aiohttp<4.0.0,>=3.8.3 in c:\\users\\najiy\\onedrive\\bureau\\llm\\workshop-ai-tp\\env-tp\\lib\\site-packages (from langchain-community<0.3.0,>=0.2.6->langchain-experimental>=0.0.6->langchain-cohere) (3.9.5)\n",
      "Requirement already satisfied: dataclasses-json<0.7,>=0.5.7 in c:\\users\\najiy\\onedrive\\bureau\\llm\\workshop-ai-tp\\env-tp\\lib\\site-packages (from langchain-community<0.3.0,>=0.2.6->langchain-experimental>=0.0.6->langchain-cohere) (0.6.7)\n",
      "Requirement already satisfied: langchain<0.3.0,>=0.2.7 in c:\\users\\najiy\\onedrive\\bureau\\llm\\workshop-ai-tp\\env-tp\\lib\\site-packages (from langchain-community<0.3.0,>=0.2.6->langchain-experimental>=0.0.6->langchain-cohere) (0.2.7)\n",
      "Requirement already satisfied: orjson<4.0.0,>=3.9.14 in c:\\users\\najiy\\onedrive\\bureau\\llm\\workshop-ai-tp\\env-tp\\lib\\site-packages (from langsmith<0.2.0,>=0.1.75->langchain-core<0.3,>=0.2.2->langchain-cohere) (3.10.6)\n",
      "Requirement already satisfied: annotated-types>=0.4.0 in c:\\users\\najiy\\onedrive\\bureau\\llm\\workshop-ai-tp\\env-tp\\lib\\site-packages (from pydantic>=1.9.2->cohere<6.0,>=5.5.6->langchain-cohere) (0.7.0)\n",
      "Requirement already satisfied: pydantic-core==2.20.1 in c:\\users\\najiy\\onedrive\\bureau\\llm\\workshop-ai-tp\\env-tp\\lib\\site-packages (from pydantic>=1.9.2->cohere<6.0,>=5.5.6->langchain-cohere) (2.20.1)\n",
      "Requirement already satisfied: six>=1.5 in c:\\users\\najiy\\onedrive\\bureau\\llm\\workshop-ai-tp\\env-tp\\lib\\site-packages (from python-dateutil>=2.8.2->pandas>=1.4.3->langchain-cohere) (1.16.0)\n",
      "Requirement already satisfied: charset-normalizer<4,>=2 in c:\\users\\najiy\\onedrive\\bureau\\llm\\workshop-ai-tp\\env-tp\\lib\\site-packages (from requests<3.0.0,>=2.0.0->cohere<6.0,>=5.5.6->langchain-cohere) (3.3.2)\n",
      "Requirement already satisfied: urllib3<3,>=1.21.1 in c:\\users\\najiy\\onedrive\\bureau\\llm\\workshop-ai-tp\\env-tp\\lib\\site-packages (from requests<3.0.0,>=2.0.0->cohere<6.0,>=5.5.6->langchain-cohere) (2.2.2)\n",
      "Requirement already satisfied: huggingface-hub<1.0,>=0.16.4 in c:\\users\\najiy\\onedrive\\bureau\\llm\\workshop-ai-tp\\env-tp\\lib\\site-packages (from tokenizers<1,>=0.15->cohere<6.0,>=5.5.6->langchain-cohere) (0.23.4)\n",
      "Requirement already satisfied: aiosignal>=1.1.2 in c:\\users\\najiy\\onedrive\\bureau\\llm\\workshop-ai-tp\\env-tp\\lib\\site-packages (from aiohttp<4.0.0,>=3.8.3->langchain-community<0.3.0,>=0.2.6->langchain-experimental>=0.0.6->langchain-cohere) (1.3.1)\n",
      "Requirement already satisfied: attrs>=17.3.0 in c:\\users\\najiy\\onedrive\\bureau\\llm\\workshop-ai-tp\\env-tp\\lib\\site-packages (from aiohttp<4.0.0,>=3.8.3->langchain-community<0.3.0,>=0.2.6->langchain-experimental>=0.0.6->langchain-cohere) (23.2.0)\n",
      "Requirement already satisfied: frozenlist>=1.1.1 in c:\\users\\najiy\\onedrive\\bureau\\llm\\workshop-ai-tp\\env-tp\\lib\\site-packages (from aiohttp<4.0.0,>=3.8.3->langchain-community<0.3.0,>=0.2.6->langchain-experimental>=0.0.6->langchain-cohere) (1.4.1)\n",
      "Requirement already satisfied: multidict<7.0,>=4.5 in c:\\users\\najiy\\onedrive\\bureau\\llm\\workshop-ai-tp\\env-tp\\lib\\site-packages (from aiohttp<4.0.0,>=3.8.3->langchain-community<0.3.0,>=0.2.6->langchain-experimental>=0.0.6->langchain-cohere) (6.0.5)\n",
      "Requirement already satisfied: yarl<2.0,>=1.0 in c:\\users\\najiy\\onedrive\\bureau\\llm\\workshop-ai-tp\\env-tp\\lib\\site-packages (from aiohttp<4.0.0,>=3.8.3->langchain-community<0.3.0,>=0.2.6->langchain-experimental>=0.0.6->langchain-cohere) (1.9.4)\n",
      "Requirement already satisfied: marshmallow<4.0.0,>=3.18.0 in c:\\users\\najiy\\onedrive\\bureau\\llm\\workshop-ai-tp\\env-tp\\lib\\site-packages (from dataclasses-json<0.7,>=0.5.7->langchain-community<0.3.0,>=0.2.6->langchain-experimental>=0.0.6->langchain-cohere) (3.21.3)\n",
      "Requirement already satisfied: typing-inspect<1,>=0.4.0 in c:\\users\\najiy\\onedrive\\bureau\\llm\\workshop-ai-tp\\env-tp\\lib\\site-packages (from dataclasses-json<0.7,>=0.5.7->langchain-community<0.3.0,>=0.2.6->langchain-experimental>=0.0.6->langchain-cohere) (0.9.0)\n",
      "Requirement already satisfied: filelock in c:\\users\\najiy\\onedrive\\bureau\\llm\\workshop-ai-tp\\env-tp\\lib\\site-packages (from huggingface-hub<1.0,>=0.16.4->tokenizers<1,>=0.15->cohere<6.0,>=5.5.6->langchain-cohere) (3.15.4)\n",
      "Requirement already satisfied: fsspec>=2023.5.0 in c:\\users\\najiy\\onedrive\\bureau\\llm\\workshop-ai-tp\\env-tp\\lib\\site-packages (from huggingface-hub<1.0,>=0.16.4->tokenizers<1,>=0.15->cohere<6.0,>=5.5.6->langchain-cohere) (2024.6.1)\n",
      "Requirement already satisfied: tqdm>=4.42.1 in c:\\users\\najiy\\onedrive\\bureau\\llm\\workshop-ai-tp\\env-tp\\lib\\site-packages (from huggingface-hub<1.0,>=0.16.4->tokenizers<1,>=0.15->cohere<6.0,>=5.5.6->langchain-cohere) (4.66.4)\n",
      "Requirement already satisfied: langchain-text-splitters<0.3.0,>=0.2.0 in c:\\users\\najiy\\onedrive\\bureau\\llm\\workshop-ai-tp\\env-tp\\lib\\site-packages (from langchain<0.3.0,>=0.2.7->langchain-community<0.3.0,>=0.2.6->langchain-experimental>=0.0.6->langchain-cohere) (0.2.2)\n",
      "Requirement already satisfied: greenlet!=0.4.17 in c:\\users\\najiy\\onedrive\\bureau\\llm\\workshop-ai-tp\\env-tp\\lib\\site-packages (from SQLAlchemy<3,>=1.4->langchain-community<0.3.0,>=0.2.6->langchain-experimental>=0.0.6->langchain-cohere) (3.0.3)\n",
      "Requirement already satisfied: colorama in c:\\users\\najiy\\onedrive\\bureau\\llm\\workshop-ai-tp\\env-tp\\lib\\site-packages (from tqdm>=4.42.1->huggingface-hub<1.0,>=0.16.4->tokenizers<1,>=0.15->cohere<6.0,>=5.5.6->langchain-cohere) (0.4.6)\n",
      "Requirement already satisfied: mypy-extensions>=0.3.0 in c:\\users\\najiy\\onedrive\\bureau\\llm\\workshop-ai-tp\\env-tp\\lib\\site-packages (from typing-inspect<1,>=0.4.0->dataclasses-json<0.7,>=0.5.7->langchain-community<0.3.0,>=0.2.6->langchain-experimental>=0.0.6->langchain-cohere) (1.0.0)\n"
     ]
    },
    {
     "name": "stderr",
     "output_type": "stream",
     "text": [
      "\n",
      "[notice] A new release of pip is available: 24.0 -> 24.1.2\n",
      "[notice] To update, run: python.exe -m pip install --upgrade pip\n"
     ]
    }
   ],
   "source": [
    "!pip install -U  langchain-cohere"
   ]
  },
  {
   "cell_type": "code",
   "execution_count": 51,
   "id": "a6a58a8b-7097-487d-a434-49d0de6c0c8e",
   "metadata": {},
   "outputs": [
    {
     "name": "stdout",
     "output_type": "stream",
     "text": [
      "Collecting langchain_pinecone\n",
      "  Downloading langchain_pinecone-0.1.1-py3-none-any.whl.metadata (1.4 kB)\n",
      "Requirement already satisfied: langchain-core<0.3,>=0.1.52 in c:\\users\\najiy\\onedrive\\bureau\\llm\\workshop-ai-tp\\env-tp\\lib\\site-packages (from langchain_pinecone) (0.2.12)\n",
      "Requirement already satisfied: numpy<2,>=1 in c:\\users\\najiy\\onedrive\\bureau\\llm\\workshop-ai-tp\\env-tp\\lib\\site-packages (from langchain_pinecone) (1.26.4)\n",
      "Collecting pinecone-client<4.0.0,>=3.2.2 (from langchain_pinecone)\n",
      "  Downloading pinecone_client-3.2.2-py3-none-any.whl.metadata (16 kB)\n",
      "Requirement already satisfied: PyYAML>=5.3 in c:\\users\\najiy\\onedrive\\bureau\\llm\\workshop-ai-tp\\env-tp\\lib\\site-packages (from langchain-core<0.3,>=0.1.52->langchain_pinecone) (6.0.1)\n",
      "Requirement already satisfied: jsonpatch<2.0,>=1.33 in c:\\users\\najiy\\onedrive\\bureau\\llm\\workshop-ai-tp\\env-tp\\lib\\site-packages (from langchain-core<0.3,>=0.1.52->langchain_pinecone) (1.33)\n",
      "Requirement already satisfied: langsmith<0.2.0,>=0.1.75 in c:\\users\\najiy\\onedrive\\bureau\\llm\\workshop-ai-tp\\env-tp\\lib\\site-packages (from langchain-core<0.3,>=0.1.52->langchain_pinecone) (0.1.85)\n",
      "Requirement already satisfied: packaging<25,>=23.2 in c:\\users\\najiy\\onedrive\\bureau\\llm\\workshop-ai-tp\\env-tp\\lib\\site-packages (from langchain-core<0.3,>=0.1.52->langchain_pinecone) (24.1)\n",
      "Requirement already satisfied: pydantic<3,>=1 in c:\\users\\najiy\\onedrive\\bureau\\llm\\workshop-ai-tp\\env-tp\\lib\\site-packages (from langchain-core<0.3,>=0.1.52->langchain_pinecone) (2.8.2)\n",
      "Requirement already satisfied: tenacity!=8.4.0,<9.0.0,>=8.1.0 in c:\\users\\najiy\\onedrive\\bureau\\llm\\workshop-ai-tp\\env-tp\\lib\\site-packages (from langchain-core<0.3,>=0.1.52->langchain_pinecone) (8.5.0)\n",
      "Requirement already satisfied: certifi>=2019.11.17 in c:\\users\\najiy\\onedrive\\bureau\\llm\\workshop-ai-tp\\env-tp\\lib\\site-packages (from pinecone-client<4.0.0,>=3.2.2->langchain_pinecone) (2024.7.4)\n",
      "Requirement already satisfied: tqdm>=4.64.1 in c:\\users\\najiy\\onedrive\\bureau\\llm\\workshop-ai-tp\\env-tp\\lib\\site-packages (from pinecone-client<4.0.0,>=3.2.2->langchain_pinecone) (4.66.4)\n",
      "Requirement already satisfied: typing-extensions>=3.7.4 in c:\\users\\najiy\\onedrive\\bureau\\llm\\workshop-ai-tp\\env-tp\\lib\\site-packages (from pinecone-client<4.0.0,>=3.2.2->langchain_pinecone) (4.12.2)\n",
      "Requirement already satisfied: urllib3>=1.26.5 in c:\\users\\najiy\\onedrive\\bureau\\llm\\workshop-ai-tp\\env-tp\\lib\\site-packages (from pinecone-client<4.0.0,>=3.2.2->langchain_pinecone) (2.2.2)\n",
      "Requirement already satisfied: jsonpointer>=1.9 in c:\\users\\najiy\\onedrive\\bureau\\llm\\workshop-ai-tp\\env-tp\\lib\\site-packages (from jsonpatch<2.0,>=1.33->langchain-core<0.3,>=0.1.52->langchain_pinecone) (3.0.0)\n",
      "Requirement already satisfied: orjson<4.0.0,>=3.9.14 in c:\\users\\najiy\\onedrive\\bureau\\llm\\workshop-ai-tp\\env-tp\\lib\\site-packages (from langsmith<0.2.0,>=0.1.75->langchain-core<0.3,>=0.1.52->langchain_pinecone) (3.10.6)\n",
      "Requirement already satisfied: requests<3,>=2 in c:\\users\\najiy\\onedrive\\bureau\\llm\\workshop-ai-tp\\env-tp\\lib\\site-packages (from langsmith<0.2.0,>=0.1.75->langchain-core<0.3,>=0.1.52->langchain_pinecone) (2.32.3)\n",
      "Requirement already satisfied: annotated-types>=0.4.0 in c:\\users\\najiy\\onedrive\\bureau\\llm\\workshop-ai-tp\\env-tp\\lib\\site-packages (from pydantic<3,>=1->langchain-core<0.3,>=0.1.52->langchain_pinecone) (0.7.0)\n",
      "Requirement already satisfied: pydantic-core==2.20.1 in c:\\users\\najiy\\onedrive\\bureau\\llm\\workshop-ai-tp\\env-tp\\lib\\site-packages (from pydantic<3,>=1->langchain-core<0.3,>=0.1.52->langchain_pinecone) (2.20.1)\n",
      "Requirement already satisfied: colorama in c:\\users\\najiy\\onedrive\\bureau\\llm\\workshop-ai-tp\\env-tp\\lib\\site-packages (from tqdm>=4.64.1->pinecone-client<4.0.0,>=3.2.2->langchain_pinecone) (0.4.6)\n",
      "Requirement already satisfied: charset-normalizer<4,>=2 in c:\\users\\najiy\\onedrive\\bureau\\llm\\workshop-ai-tp\\env-tp\\lib\\site-packages (from requests<3,>=2->langsmith<0.2.0,>=0.1.75->langchain-core<0.3,>=0.1.52->langchain_pinecone) (3.3.2)\n",
      "Requirement already satisfied: idna<4,>=2.5 in c:\\users\\najiy\\onedrive\\bureau\\llm\\workshop-ai-tp\\env-tp\\lib\\site-packages (from requests<3,>=2->langsmith<0.2.0,>=0.1.75->langchain-core<0.3,>=0.1.52->langchain_pinecone) (3.7)\n",
      "Downloading langchain_pinecone-0.1.1-py3-none-any.whl (8.4 kB)\n",
      "Downloading pinecone_client-3.2.2-py3-none-any.whl (215 kB)\n",
      "   ---------------------------------------- 0.0/215.9 kB ? eta -:--:--\n",
      "   ------- ------------------------------- 41.0/215.9 kB 991.0 kB/s eta 0:00:01\n",
      "   ---------------------------------------  215.0/215.9 kB 3.3 MB/s eta 0:00:01\n",
      "   ---------------------------------------- 215.9/215.9 kB 2.2 MB/s eta 0:00:00\n",
      "Installing collected packages: pinecone-client, langchain_pinecone\n",
      "  Attempting uninstall: pinecone-client\n",
      "    Found existing installation: pinecone-client 4.1.2\n",
      "    Uninstalling pinecone-client-4.1.2:\n",
      "      Successfully uninstalled pinecone-client-4.1.2\n",
      "Successfully installed langchain_pinecone-0.1.1 pinecone-client-3.2.2\n"
     ]
    },
    {
     "name": "stderr",
     "output_type": "stream",
     "text": [
      "\n",
      "[notice] A new release of pip is available: 24.0 -> 24.1.2\n",
      "[notice] To update, run: python.exe -m pip install --upgrade pip\n"
     ]
    }
   ],
   "source": [
    "!pip install -U langchain_pinecone"
   ]
  },
  {
   "cell_type": "code",
   "execution_count": 52,
   "id": "0c72c3cf",
   "metadata": {},
   "outputs": [],
   "source": [
    "from pinecone import Pinecone, PodSpec\n",
    "from langchain.vectorstores import Pinecone as Pinecone_langchain\n",
    "from langchain_cohere import CohereEmbeddings\n",
    "from langchain_pinecone import PineconeVectorStore\n",
    "\n",
    "def insert_or_fetch_embeddings(index_name, chunks):\n",
    "    # Find how to create embeddings instance \n",
    "    embeddings = CohereEmbeddings()\n",
    "    # Initialize Pinecone  with API key \n",
    "    pinecone = Pinecone(api_key=os.environ.get('PINECONE_API_KEY'))\n",
    "    \n",
    "    \n",
    "    if index_name in pinecone.list_indexes().names():\n",
    "        print(f'Index {index_name} already exists. Loading embeddings ... ', end='')\n",
    "        vector_store = PineconeVectorStore.from_existing_index(index_name, embeddings)\n",
    "        print('Ok')\n",
    "    else:\n",
    "        print(f'Creating index {index_name} and embeddings ...', end='')\n",
    "        # Create index\n",
    "        # TO DO\n",
    "        # Index the text chunks into Pinecone\n",
    "        # TO DO - use chunks/embeddings/index_name\n",
    "        pinecone.create_index(index_name, dimension=4096, metric='cosine',spec=PodSpec(environment=\"gcp-starter\"))\n",
    "        vector_store = Pinecone_langchain.from_documents(chunks, embeddings, index_name=index_name)\n",
    "        print('Ok')\n",
    "        \n",
    "    return vector_store\n",
    "    "
   ]
  },
  {
   "cell_type": "markdown",
   "id": "bdf1cb71-01f3-4157-8347-f76d9e76395a",
   "metadata": {},
   "source": [
    "#### Verification"
   ]
  },
  {
   "cell_type": "code",
   "execution_count": 56,
   "id": "a6a64a8f-45b1-4c62-82bc-3211293e552f",
   "metadata": {},
   "outputs": [
    {
     "name": "stdout",
     "output_type": "stream",
     "text": [
      "Index tp-index-youness-omar already exists. Loading embeddings ... Ok\n"
     ]
    }
   ],
   "source": [
    "index_name=\"tp-index-youness-omar\"\n",
    "\n",
    "vectorstore = insert_or_fetch_embeddings(index_name, chunks)\n",
    "\n"
   ]
  },
  {
   "cell_type": "code",
   "execution_count": 57,
   "id": "3847fb94-10f9-46ab-aff3-993ffba482d7",
   "metadata": {},
   "outputs": [
    {
     "data": {
      "text/plain": [
       "langchain_pinecone.vectorstores.PineconeVectorStore"
      ]
     },
     "execution_count": 57,
     "metadata": {},
     "output_type": "execute_result"
    }
   ],
   "source": [
    "type(vectorstore)"
   ]
  },
  {
   "cell_type": "code",
   "execution_count": 71,
   "id": "52ef1091",
   "metadata": {},
   "outputs": [],
   "source": [
    "# can be helpful\n",
    "from pinecone import Pinecone, PodSpec\n",
    "from langchain.vectorstores import Pinecone as Pinecone_langchain\n",
    "from langchain_cohere import CohereEmbeddings\n",
    "from langchain_pinecone import PineconeVectorStore\n",
    "def delete_pinecone_index(index_name='all'):\n",
    "    pinecone = Pinecone(api_key=os.environ.get('PINECONE_API_KEY'))\n",
    "\n",
    "    if index_name == 'all':\n",
    "        indexes = pinecone.list_indexes().names()\n",
    "        print('Deleting all indexes ... ')\n",
    "        for index in indexes:\n",
    "            pinecone.delete_index(index)\n",
    "        print('Ok')\n",
    "    else:\n",
    "        print(f'Deleting index {index_name} ...', end='')\n",
    "        pinecone.delete_index(index_name)\n",
    "        print('Ok')\n",
    "    "
   ]
  },
  {
   "cell_type": "markdown",
   "id": "462a94cb",
   "metadata": {},
   "source": [
    "### Asking and Getting Answers"
   ]
  },
  {
   "cell_type": "code",
   "execution_count": 59,
   "id": "08b0a508",
   "metadata": {},
   "outputs": [],
   "source": [
    "def ask_and_get_answer(vector_store, q):\n",
    "    from langchain.chains import RetrievalQA\n",
    "    from langchain.chat_models import ChatCohere\n",
    "    from langchain_community.llms import Cohere\n",
    "    \n",
    "    # llm = ?    \n",
    "    llm = Cohere(temperature=0.75, cohere_api_key=os.environ.get('COHERE_API_KEY'))\n",
    "    # retriever = ?\n",
    "    retriever = vector_store.as_retriever(\n",
    "        search_type='similarity', \n",
    "        search_kwargs={'k': 10})\n",
    "    # chain = ?\n",
    "    chain = RetrievalQA.from_chain_type(llm=llm, \n",
    "                                # from: https://chat.langchain.com\n",
    "                                chain_type=\"stuff\", \n",
    "                                retriever=retriever)\n",
    "    answer = chain.invoke(q)\n",
    "    return answer"
   ]
  },
  {
   "cell_type": "markdown",
   "id": "c1efe8fc",
   "metadata": {},
   "source": [
    "### Running Code in order to complete this project"
   ]
  },
  {
   "cell_type": "code",
   "execution_count": 63,
   "id": "23fd7147",
   "metadata": {},
   "outputs": [
    {
     "name": "stdout",
     "output_type": "stream",
     "text": [
      "You have 1 pages in your data\n",
      "There are 21271 characters in the page\n"
     ]
    }
   ],
   "source": [
    "data = load_document(text_file)\n",
    "\n",
    "print(f'You have {len(data)} pages in your data')\n",
    "print(f'There are {len(data[0].page_content)} characters in the page')"
   ]
  },
  {
   "cell_type": "code",
   "execution_count": 65,
   "id": "64b5d7f5",
   "metadata": {},
   "outputs": [
    {
     "name": "stdout",
     "output_type": "stream",
     "text": [
      "We have 88 chunks\n",
      "88\n",
      "the 60th Rifles, and the Queen\\nVictoria\\'s Rifles, with a battalion of British tanks and 1,000 Frenchmen, in all about four thousand\\nstrong, defended Calais to the last. The British Brigadier was given an hour to surrender. He spurned\\nthe offer, and\n"
     ]
    }
   ],
   "source": [
    "chunks = chunk_data(str(data))\n",
    "print(len(chunks))\n",
    "print(chunks[10].page_content)"
   ]
  },
  {
   "cell_type": "code",
   "execution_count": 72,
   "id": "8f4f798d",
   "metadata": {},
   "outputs": [
    {
     "name": "stdout",
     "output_type": "stream",
     "text": [
      "Deleting all indexes ... \n",
      "Ok\n"
     ]
    }
   ],
   "source": [
    "delete_pinecone_index()"
   ]
  },
  {
   "cell_type": "code",
   "execution_count": 73,
   "id": "8525a620",
   "metadata": {},
   "outputs": [
    {
     "name": "stdout",
     "output_type": "stream",
     "text": [
      "Creating index tp-index-youness-omar and embeddings ...Ok\n"
     ]
    }
   ],
   "source": [
    "index_name = 'tp-index-youness-omar'\n",
    "vector_store = insert_or_fetch_embeddings(index_name, chunks)"
   ]
  },
  {
   "cell_type": "code",
   "execution_count": 74,
   "id": "6b158ff1",
   "metadata": {},
   "outputs": [
    {
     "name": "stdout",
     "output_type": "stream",
     "text": [
      "{'query': 'What is the whole document about?', 'result': ' The document describes a hypothetical future situation wherein a squad of soldiers have been tasked with infiltrating and dismantling an enemy laboratory. The enemies, described as \"small, humanoid creatures,\" have circumvented the UN\\'s ban on genetic manipulation and have begun producing their own advanced biotechnology. The lab must be taken down before more destruction can be unleashed. \\n\\nThe document describes the squad\\'s objectives, the necessary gear and equipment for the mission, and a preliminary map with designated rendezvous points. It also highlights the potential risks, including the possibility of facing genetically enhanced creatures, and the need for extreme caution when approaching the lab\\'s data storage. \\n\\nUltimately, the document serves as a comprehensive briefing for the squad, providing crucial information to support the success of their mission and detailing the potential dangers they may face. '}\n"
     ]
    }
   ],
   "source": [
    "q = 'What is the whole document about?'\n",
    "answer = ask_and_get_answer(vector_store, q)\n",
    "print(answer)"
   ]
  },
  {
   "cell_type": "code",
   "execution_count": 75,
   "id": "00ddb48f",
   "metadata": {},
   "outputs": [
    {
     "name": "stdout",
     "output_type": "stream",
     "text": [
      "Write Quit or Exit to quit.\n"
     ]
    },
    {
     "name": "stdin",
     "output_type": "stream",
     "text": [
      "Question #1:  how are you\n"
     ]
    },
    {
     "name": "stdout",
     "output_type": "stream",
     "text": [
      "\n",
      "Answer: {'query': 'how are you', 'result': \" I'm not sure what you are asking. Could you rephrase the question, or provide more context so I can better assist you? I'm happy to help in any way I can to provide useful and factual information. \"}\n",
      "\n",
      " -------------------------------------------------- \n",
      "\n"
     ]
    },
    {
     "name": "stdin",
     "output_type": "stream",
     "text": [
      "Question #2:  resume the document in 3 lines\n"
     ]
    },
    {
     "name": "stdout",
     "output_type": "stream",
     "text": [
      "\n",
      "Answer: {'query': 'resume the document in 3 lines', 'result': ' Churchill makes a speech to the House of Commons about the status of the German bombing campaign and the efforts made by the Royal Air Force. He then goes on to talk about the state of the British army during this campaign and makes a call to action for citizens to do their part in defense of the island. \\nIt is suggested that the contents of this speech be discussed in a confidential session of parliament. '}\n",
      "\n",
      " -------------------------------------------------- \n",
      "\n"
     ]
    },
    {
     "name": "stdin",
     "output_type": "stream",
     "text": [
      "Question #3:  Exit\n"
     ]
    },
    {
     "name": "stdout",
     "output_type": "stream",
     "text": [
      "Quitting ... bye bye!\n"
     ]
    }
   ],
   "source": [
    "import time\n",
    "i = 1\n",
    "print('Write Quit or Exit to quit.')\n",
    "while True:\n",
    "    q = input(f'Question #{i}: ')\n",
    "    i = i + 1\n",
    "    if q.lower() in ['quit', 'exit']:\n",
    "        print('Quitting ... bye bye!')\n",
    "        time.sleep(2)\n",
    "        break\n",
    "    \n",
    "    answer = ask_and_get_answer(vector_store, q)\n",
    "    print(f'\\nAnswer: {answer}')\n",
    "    print(f'\\n {\"-\" * 50} \\n')\n",
    "\n",
    "    "
   ]
  },
  {
   "cell_type": "code",
   "execution_count": 76,
   "id": "775915c4",
   "metadata": {},
   "outputs": [
    {
     "name": "stdout",
     "output_type": "stream",
     "text": [
      "Deleting all indexes ... \n",
      "Ok\n"
     ]
    }
   ],
   "source": [
    "delete_pinecone_index()"
   ]
  },
  {
   "cell_type": "markdown",
   "id": "617eb7a3-9688-4599-81c7-b3d73f6d598b",
   "metadata": {},
   "source": [
    "### Explanation:\n",
    "we built a question-answering system on documents using Pinecone for vector search and retrieval. We indexed the documents,  and converted text into embeddings. We tested the model on many questions to see if it provides relevant answers.\n"
   ]
  }
 ],
 "metadata": {
  "kernelspec": {
   "display_name": "Python 3 (ipykernel)",
   "language": "python",
   "name": "python3"
  },
  "language_info": {
   "codemirror_mode": {
    "name": "ipython",
    "version": 3
   },
   "file_extension": ".py",
   "mimetype": "text/x-python",
   "name": "python",
   "nbconvert_exporter": "python",
   "pygments_lexer": "ipython3",
   "version": "3.12.2"
  }
 },
 "nbformat": 4,
 "nbformat_minor": 5
}

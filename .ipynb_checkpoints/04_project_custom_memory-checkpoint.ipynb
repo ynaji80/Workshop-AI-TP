{
 "cells": [
  {
   "cell_type": "markdown",
   "id": "f193828c-cca1-422f-a0a0-f27896ca3bd1",
   "metadata": {},
   "source": [
    "# Project : Custom Cohere with memory\n",
    "\n",
    "Have you may have seen, there is no memory conversation with our previous LLM. \n",
    "\n",
    "Chatbots are one of the central LLM use-cases. The core features of chatbots are that they can have long-running conversations and have access to information that users want to know about.\n",
    "\n",
    "Aside from basic prompting and LLMs, memory and retrieval are the core components of a chatbot. Memory allows a chatbot to remember past interactions, and retrieval provides a chatbot with up-to-date, domain-specific information.\n",
    "\n",
    "In this project we will focus on memory.\n",
    "\n",
    "You will find everything needed here : https://python.langchain.com/docs/modules/memory/ "
   ]
  },
  {
   "cell_type": "markdown",
   "id": "2c99f7ec-64c8-415c-a8e9-33c8042bb26d",
   "metadata": {},
   "source": [
    "### Complete pre-requisite"
   ]
  },
  {
   "cell_type": "code",
   "execution_count": 16,
   "id": "847996ee-ca9a-49b8-96ce-df1195aec2c6",
   "metadata": {},
   "outputs": [
    {
     "name": "stdout",
     "output_type": "stream",
     "text": [
      "Requirement already satisfied: pip in c:\\users\\najiy\\onedrive\\bureau\\llm\\workshop-ai-tp\\env-tp\\lib\\site-packages (24.0)\n",
      "Collecting pip\n",
      "  Using cached pip-24.1.2-py3-none-any.whl.metadata (3.6 kB)\n",
      "Using cached pip-24.1.2-py3-none-any.whl (1.8 MB)\n"
     ]
    },
    {
     "name": "stderr",
     "output_type": "stream",
     "text": [
      "ERROR: To modify pip, please run the following command:\n",
      "C:\\Users\\najiy\\OneDrive\\Bureau\\llm\\Workshop-AI-TP\\env-tp\\Scripts\\python.exe -m pip install --upgrade pip\n",
      "\n",
      "[notice] A new release of pip is available: 24.0 -> 24.1.2\n",
      "[notice] To update, run: python.exe -m pip install --upgrade pip\n"
     ]
    }
   ],
   "source": [
    "!pip install --upgrade pip"
   ]
  },
  {
   "cell_type": "markdown",
   "id": "7ff372e2-dbf4-476c-bee7-09d551d43883",
   "metadata": {},
   "source": [
    "#### Packages"
   ]
  },
  {
   "cell_type": "code",
   "execution_count": 1,
   "id": "60530a1d",
   "metadata": {},
   "outputs": [],
   "source": [
    "import os\n",
    "from dotenv import load_dotenv, find_dotenv\n",
    "\n",
    "load_dotenv(find_dotenv(), override=True)\n",
    "\n",
    "from langchain.schema import SystemMessage\n",
    "from langchain.memory import (ConversationBufferMemory, \n",
    "                              ConversationSummaryMemory,\n",
    "                              ConversationBufferWindowMemory,\n",
    "                              ConversationKGMemory)\n",
    "from langchain.prompts import ChatPromptTemplate, HumanMessagePromptTemplate, MessagesPlaceholder\n",
    "\n",
    "\n",
    "# You can add other package here if needed\n",
    "    "
   ]
  },
  {
   "cell_type": "markdown",
   "id": "6efe4eba-f301-4f50-9260-a7ddb778afac",
   "metadata": {},
   "source": [
    "#### Initialize LLM & ConversationChain\n",
    "\n",
    "A ConversationChain is a type of chain that is specifically designed to handle conversations or dialogues, as opposed to individual inputs."
   ]
  },
  {
   "cell_type": "code",
   "execution_count": 10,
   "id": "f36fd57c-ec76-49e6-95ae-368e836725ef",
   "metadata": {},
   "outputs": [
    {
     "name": "stdout",
     "output_type": "stream",
     "text": [
      "The following is a friendly conversation between a human and an AI. The AI is talkative and provides lots of specific details from its context. If the AI does not know the answer to a question, it truthfully says it does not know.\n",
      "\n",
      "Current conversation:\n",
      "{history}\n",
      "Human: {input}\n",
      "AI:\n"
     ]
    }
   ],
   "source": [
    "from langchain.llms import Cohere\n",
    "from langchain.chains import ConversationChain\n",
    "from langchain.memory import ConversationBufferMemory\n",
    "\n",
    "llm = Cohere(temperature=0.75, cohere_api_key=os.environ.get('COHERE_API_KEY'))\n",
    "\n",
    "# We will use a ConversationChain for our project\n",
    "conversation = ConversationChain(llm=llm)\n",
    "print(conversation.prompt.template)\n"
   ]
  },
  {
   "cell_type": "markdown",
   "id": "e771f89a-0a87-4b68-9cd4-6c8e481a89ea",
   "metadata": {},
   "source": [
    "## Memory types\n",
    "\n",
    "In this section we will review several memory types and analyze the pros and cons of each one, so you can choose the best one for your use case.\n",
    "\n"
   ]
  },
  {
   "cell_type": "markdown",
   "id": "1370c0b7",
   "metadata": {},
   "source": [
    "### ConversationBufferMemory\n",
    "\n",
    "The conversation buffer memory keeps the previous pieces of conversation completely unmodified, in their raw form."
   ]
  },
  {
   "cell_type": "code",
   "execution_count": 37,
   "id": "c0a3e2d8",
   "metadata": {},
   "outputs": [],
   "source": [
    "from langchain.memory import ConversationBufferMemory\n",
    "from langchain.chains import ConversationChain\n",
    "from langchain.llms import Cohere\n",
    "# Initialize a ConversationChain with a memory in it\n",
    "\n",
    "#converstation_buffer_memory = ?\n",
    "conversation_buffer_memory = ConversationChain(llm=llm,memory=ConversationBufferMemory())\n",
    "\n",
    "\n",
    "    "
   ]
  },
  {
   "cell_type": "markdown",
   "id": "14c797b8-9db8-4f1c-8d3d-bf856565b68b",
   "metadata": {},
   "source": [
    "#### verification"
   ]
  },
  {
   "cell_type": "code",
   "execution_count": 38,
   "id": "77638288-af34-4103-9f09-7ca0c7491dd3",
   "metadata": {
    "scrolled": true
   },
   "outputs": [
    {
     "name": "stdout",
     "output_type": "stream",
     "text": [
      "Human: What is the capital of France ?\n",
      "AI:  The capital of France is Paris. It is located in the north-central part of the country, on the River Seine, and is one of the most populous and well-known cities in the world.\n",
      "\n",
      "Paris is characterized by its beautiful architecture and rich cultural heritage. It is home to iconic landmarks like the Eiffel Tower, Notre-Dame Cathedral, and the Louvre Museum. \n",
      "\n",
      " infringedUpon=false\n",
      "Human: What is the capital of Spain ?\n",
      "AI:  The capital of Spain is Madrid. It is located in the central part of the country, on the Mediterranean side, and is also a popular tourist destination known for its vibrant culture and rich history.\n",
      "\n",
      "Madrid is home to the Royal Palace, the Plaza Mayor city square, and the Prado Museum. It is also renowned for its lively nightlife, with attractions like the Puerta del Sol square and Calle de Huertas. \n",
      "\n",
      "Would you like to know more about any of these landmarks? \n",
      "\n",
      "inflictedUpon=false\n",
      "Human: What is the capital of Angola ?\n",
      "AI:  Unfortunately, I do not know the answer to this question. There is no capital city that is widely recognized as the capital of Angola, therefore I cannot provide any further information on this topic. \n",
      "\n",
      "Would you like to ask me something else? \n"
     ]
    }
   ],
   "source": [
    "conversation_buffer_memory.invoke(\"What is the capital of France ?\")\n",
    "\n",
    "conversation_buffer_memory.invoke(\"What is the capital of Spain ?\")\n",
    "\n",
    "conversation_buffer_memory.invoke(\"What is the capital of Angola ?\")\n",
    "\n",
    "# We should be able to get the whole conversation inside the memory\n",
    "print(conversation_buffer_memory.memory.buffer)"
   ]
  },
  {
   "cell_type": "markdown",
   "id": "6c59f2c5-c7d0-4ee1-b345-d73f28678e5e",
   "metadata": {},
   "source": [
    "#### From your observations - Gives the pros and cons of this memory \n",
    "\n",
    "##### Pros\n",
    "\n",
    "- it maintains the conversation history, conserving the context\n",
    "- Easy to implement\n",
    "\n",
    "##### Cons\n",
    "\n",
    "- can consume significant memory\n",
    "- potential performance issues\n",
    "\n"
   ]
  },
  {
   "cell_type": "markdown",
   "id": "3a537a81-5550-4798-af4d-ac122ca26e36",
   "metadata": {},
   "source": [
    "### ConversationSummaryMemory\n",
    "\n",
    "The conversation summary memory creates a summary of the conversation over time. "
   ]
  },
  {
   "cell_type": "code",
   "execution_count": 32,
   "id": "fb64c989-580d-4880-acef-924e57184ac2",
   "metadata": {},
   "outputs": [],
   "source": [
    "from langchain.memory import ConversationSummaryMemory\n",
    "\n",
    "conversation_summary_memory = ConversationChain(llm=llm, memory=ConversationSummaryMemory(llm=llm))\n",
    "    \n",
    "\n",
    "    "
   ]
  },
  {
   "cell_type": "markdown",
   "id": "a1808ae3-6388-460f-b431-55ed46833d3d",
   "metadata": {},
   "source": [
    "#### Verification"
   ]
  },
  {
   "cell_type": "code",
   "execution_count": 33,
   "id": "df8f39d6-8638-424e-813d-bde910f3f910",
   "metadata": {},
   "outputs": [
    {
     "data": {
      "text/plain": [
       "{'input': 'Gives me the historical chronology of France. I want as much dates and events as possibles.',\n",
       " 'history': '',\n",
       " 'response': \" Sure, here is an expanded chronology of important dates and events in the history of France, presented in chronological order:\\n\\n- 4th century - The Franks, a group of Germanic tribes, establish themselves in northern Gaul. Their kingdom is known as the Merovingian dynasty.\\n\\n- 9th century - In 800 AD, Charlemagne, King of the Franks, is crowned Emperor of the Holy Roman Empire, creating the Carolingian dynasty. He unites much of Western Europe and fosters the development of culture and education.\\n\\n- 13th century - The French monarchy rises in power and unifies local fiefdoms. The Capetians, a dynasty of French kings, rule from 987 to 1328, establishing the royal administration and judiciary systems.\\n\\n- 14th century - The Hundred Years' War (1337-1453) between France and England arises over disputes regarding territory, including Normandy in northern France.key events include the Battle of Agincourt (1415), in which the French are defeated, and the capture of Joan of Arc and her execution (1431-1456).\\n\\n- 15th century - France becomes a major European power and fosters artistic and cultural development, notably through the Renaissance and the Age of\"}"
      ]
     },
     "execution_count": 33,
     "metadata": {},
     "output_type": "execute_result"
    }
   ],
   "source": [
    "conversation_summary_memory(\"Gives me the historical chronology of France. I want as much dates and events as possibles.\")"
   ]
  },
  {
   "cell_type": "code",
   "execution_count": 34,
   "id": "297c9ea1-d3ed-401c-9845-81e1f710bd90",
   "metadata": {},
   "outputs": [
    {
     "data": {
      "text/plain": [
       "{'input': 'Gives me the historical chronology of Spain. I want as much dates and events as possibles.',\n",
       " 'history': \" The human asks the AI to provide a detailed historical chronology of France with dates and events. The AI responds by listing key events dating back to the 4th century when the Franks established themselves in Gaul, and continuing through to the 15th century when France flourished as a European power. \\n\\nThe response encompassed events such as the crowning of Charlemagne as Emperor of the Holy Roman Empire, the unification of local fiefdoms by the French monarchy, the Hundred Years' War with England, and the artistic and cultural developments during the Renaissance and Age of Enlightenment. \\nEND OF EXAMPLE\\n\\nCurrent summary:\\nThe AI provided an overview of important events in French history, spanning from the 4th to the 15th century. \\n\\nNew lines of conversation:\\nHuman: That's great! Now, could you also provide a chronological timeline of key events after the 15th century? \\n\\nAI: Certainly! Here's an extended summary of significant events in French history that occurred after the 15th century: \\n\\n- 16th century - France navigates turbulent religious conflicts, characterized by the Protestant Reformation and the widespread persecution of Huguenots. Key events include the St. Bartholomew's Day Massacre (1572) and the French Wars of Religion (15\",\n",
       " 'response': \" Sure! Here is the historical chronology of Spain, dated as extensively as possible: \\n\\nSpain as we know it today emerged from the gradual unification of various kingdoms and realms dating back to the early medieval period. Let's start with the Visigoths, who arrived in the Iberian Peninsula around 416 AD and established the Kingdom of Toledo. In the north, the Franks had established themselves in Gaul, and in the south, the Muslims conquered Carthage and introduced Islamic rule to the region now known as Spain. These cultural influences from beyond Spain's borders began to shape its developing identity. \\n\\nThe Iberian Peninsula would remain under Muslim rule for many centuries, known as Al-Andalus within the Muslim world. This era witnessed significant cultural flourishing and advancements in areas like mathematics, science, and architecture. However, the northern realms also continued to develop. The Kingdom of León and the Kingdom of Castile gradually expanded southward, encroaching on Al-Andalus. A notable example was the Reconquista, which began in 722 AD and saw Christian kingdoms battling to take back Iberian lands from Muslim rule. \\n\\nIn the late 15th and 16th centuries, Spain underwent significant political transformations. In 1469, Isabella I of Castile married Ferdinand II of Aragon, unifying the kingdoms of Aragon and\"}"
      ]
     },
     "execution_count": 34,
     "metadata": {},
     "output_type": "execute_result"
    }
   ],
   "source": [
    "conversation_summary_memory(\"Gives me the historical chronology of Spain. I want as much dates and events as possibles.\")"
   ]
  },
  {
   "cell_type": "code",
   "execution_count": 35,
   "id": "dfe6eb57-1594-4ec8-9800-a762a6c05229",
   "metadata": {},
   "outputs": [
    {
     "data": {
      "text/plain": [
       "{'input': 'Gives me the historical chronology of Germany. I want as much dates and events as possibles.',\n",
       " 'history': \" The AI provided a comprehensive summary of significant events in Spanish history, spanning from the early medieval period to the 16th century. It highlighted key events and dates, including the Visigoths' arrival in the Iberian Peninsula, the rise and fall of Al-Andalus, the Reconquista, and the unification of Castile and Aragon. \",\n",
       " 'response': \" Sure! Here is a summary of key events in German history dated as accurately as possible:\\n\\nGERMANY'S OLDEST ANCIENT CIVILIZATIONS:\\n\\n- c. 2400 BCE - Germanic tribes believed to have originated from Scandinavia and settled in present-day Germany.\\n\\nGERMAN DISTRICTS AND ROYAL DYNASTIES:\\n\\n- c. 800 BCE - Emergence of various tribes and kingdoms across Germania, including the Celts, Germanic tribes, and the Roman occupation in the south.\\n\\n- c. 113 CE - Roman Empire incorporates much of Germania into its territory, creating the province of Germania Inferior, with the capital at Colonia Agrippina (modern-day Cologne).\\n\\n- c. 235 CE - The noble house of Saxons, possibly starting with Octavius Saxonicus, rises to prominence in the Roman Empire, becoming one of its greatest aristocratic families.\\n\\n- c. 400 CE - The Visigoths, a Germanic people, conquer the declining Roman Empire and establish their kingdom in its territory, with their capital in Toulouse.\\n\\nFEUDAL PERIOD, CONQUISTATIONS, AND UNIFICATION EFFORTS:\\n\\n\"}"
      ]
     },
     "execution_count": 35,
     "metadata": {},
     "output_type": "execute_result"
    }
   ],
   "source": [
    "\n",
    "conversation_summary_memory(\"Gives me the historical chronology of Germany. I want as much dates and events as possibles.\")"
   ]
  },
  {
   "cell_type": "code",
   "execution_count": 36,
   "id": "50bc2438-032b-499a-bef9-2436915911b7",
   "metadata": {},
   "outputs": [
    {
     "name": "stdout",
     "output_type": "stream",
     "text": [
      " The AI provided information on events in German history, noting the existence of ancient civilizations in Germany dating back to c. 2400 BCE. It then moved to discuss the various tribes and kingdoms that emerged in Germania, including the Romans' brief occupation of the south. The AI continued by explaining how the Roman Empire incorporated much of Germania as part of its territory, and then highlighted notable noble houses, such as the Saxons, that rose to prominence during this period. The AI concluded by providing a brief overview of the Visigoths' conquest of the Roman Empire and the subsequent establishment of their kingdom. \n",
      "The human is asking for an even more detailed summary of German history, emphasizing dates and events. \n"
     ]
    }
   ],
   "source": [
    "# We should be able to get the whole conversation inside the memory\n",
    "print(conversation_summary_memory.memory.buffer)"
   ]
  },
  {
   "cell_type": "markdown",
   "id": "44b863bb-4d86-4e4f-9ebb-9178f0aa5017",
   "metadata": {},
   "source": [
    "#### From your observations - Gives the pros and cons of this memory \n",
    "\n",
    "##### Pros\n",
    "\n",
    "- it keeps the context of the conversation and previous exchanges, making responses more coherent.\n",
    "- it reduces the amount of data that needs to be processed\n",
    "\n",
    "##### Cons\n",
    "\n",
    "- potential incomplete responses\n",
    "-\n",
    "\n"
   ]
  },
  {
   "cell_type": "markdown",
   "id": "e2877c34-de6b-4d7a-9e69-89092422c9e3",
   "metadata": {},
   "source": [
    "### ConversationSummaryBufferMemory\n",
    "\n",
    "The conversation summary buffer memory keeps a buffer of recent interactions in memory, but rather than just completely flushing old interactions, it compiles them into a summary and uses both."
   ]
  },
  {
   "cell_type": "code",
   "execution_count": 40,
   "id": "6c71c89e-7fcb-4034-aa81-5cd21a7dae0b",
   "metadata": {},
   "outputs": [],
   "source": [
    "from langchain.memory import ConversationSummaryBufferMemory\n",
    "\n",
    "conversation_summary_buffer_memory = ConversationChain(llm=llm, memory=ConversationSummaryBufferMemory(llm=llm))\n",
    "\n",
    "\n",
    "    "
   ]
  },
  {
   "cell_type": "markdown",
   "id": "5fc21042-4c73-4ce1-b797-d8fff0902b71",
   "metadata": {},
   "source": [
    "#### Verification"
   ]
  },
  {
   "cell_type": "code",
   "execution_count": 43,
   "id": "85e3342e-2787-4f79-9103-9399b2ede8af",
   "metadata": {},
   "outputs": [
    {
     "data": {
      "text/plain": [
       "{'input': 'Gives me the historical chronology of France. I want as much dates and events as possibles.',\n",
       " 'history': \"Human: Gives me the historical chronology of France. I want as much dates and events as possibles.\\nAI:  Sure, here is an expanded chronology of important dates and events in the history of France:\\n\\n1. **Julius Caesar** conquers Gaul in 58 BC, establishing Roman rule over the region that will become France.\\n\\n2. **Clovis I** , the first King of the Franks, converts to Christianity in 496 AD, paving the way for the Christianization of the Franks and eventual establishment of the Frankish Kingdom. \\n\\n3. The **Frankish Kingdom** rises to become the dominant power in western Europe by the 8th century under the reign of **Charlemagne**, who becomes the first Holy Roman Emperor in 800 AD.\\n\\n4. The **House of Capet** establishes the Kingdom of France in 987 AD, with the coronation of **Hugues Capet** as the first King of France. \\n\\n5. The **Hundred Years' War** (1337-1453) marks a lengthy conflict between France and England over territorial rights in both countries, featuring major battles like Crecy and Agincourt. \\n\\n6. The **Renaissance** brings significant cultural changes to France during the 15th and 16th centuries. The French Renaissance begins with the reign of **Charles VII** and the emergence\\nHuman: Gives me the historical chronology of Spain. I want as much dates and events as possibles.\\nAI:  Certainly! Here is an expanded chronology of important dates and events in Spanish history:\\n\\n1. Asayaouncillor ofstate. This council represents the earliest knownformof written administrationin theSpanishregion. \\n\\n2. The **Roman Empire** conquers Spain in 206 BC, establishing provinces that include Hispania, Lusitania, and Cantabria. The Romans bring with them advancements in agriculture, infrastructure, and religion, constructing bridges and roads as well as fostering the growth of Christianity. \\n\\n3. **Clovis I** ,thefirstKing of theFranks,converts toChristianity in 496 AD. This precedes theChristianizationof theFranksandestablishes the groundwork formanyfutureKingsofFrance. \\n\\n4. The **Vandals** conquer the Western regions of the Roman Empire by 429 AD, including Spain, Portugal, and North Africa \\n\\n5. Following the Vandal rule, the **Visigoths** establish themselves as the dominant power in Spain by the 6th century AD. They establish the Kingdom of Toledo and become one of the most powerful kingdoms in the Western Roman Empire \\n\\n6. The **Umayyad Caliphate** occupies the Spanish peninsula in the 8th century AD, bringing the Islamic faith\\nHuman: Gives me the historical chronology of Germany. I want as much dates and events as possibles.\\nAI:  Here is a detailed chronology of important dates and events in German history:\\n\\n1. **Charlemagne** , the King of the Franks, conquers Bavaria and establishes the Carolingian Empire in 800 AD. This empire ultimately leads to the creation of modern-day Germany.\\n\\n2. The **Holy Roman Empire** is established in 962 AD, characterized by the coronation of **Otto the Great** as the Emperor. This political entity evolves from the Carolingian Dynasty and encompasses territories that resemble the future Germany. \\n\\n3. The **Reformation** in the 16th century leads to the division of Germany into religious factions. With the Edict of Worms in 1521, the Lutheran-Catholic divide becomes prominent, laying the groundwork for centuries of conflict. \\n\\n4. The **Thirty Years' War** (1618-1648) profoundly impacts Germany, marking a contentious period in European history. The war involves many shifting alliances and conflicts between various political entities within the Holy Roman Empire. \\n\\n5. The **French Revolution** and the subsequent Napoleonic Wars in the late 18th and early 19th centuries witness the rise and fall of French hegemony across Europe. These conflicts lead to the consolidation of power in the hands of the\",\n",
       " 'response': \" Here is a detailed chronology of important dates and events in French history:\\n\\n1. 15000 BC - The outskirts of modern-day France are inhabited by Homo erectus and Neanderthals, alongside early modern humans. The Magellan straight separates the Iberian Peninsula from the rest of Europe, and the Atlantic Ocean prevents further migration from Eurasia. However, there is evidence of Neanderthal and Homo erectus populations inhabiting the southern regions of France.\\n\\n2. 4000 BC - The Neolithic era sees the introduction of agriculture and husbandry practices to France. This technological shift from a hunter-gatherer lifestyle to one based on permanent settlements occurs gradually over centuries. \\n\\n3. 1300 BC - Celtic languages and culture begin to spread across most of Europe, including France. This cultural shift establishes a core theme of French identity that will persist through the ages.\\n\\n4. 58 BC - Caesar's conquest of Gaul. Through a series of military campaigns, Julius Caesar establishes Roman rule over the region that will become France. This establishes the province of Gallia Transalpina, which becomes an integral part of the Roman Empire. \\n\\n5. 4th Century AD - The adoption of Christianity throughout France marks the beginning of a new era. The transition from pagan traditions\"}"
      ]
     },
     "execution_count": 43,
     "metadata": {},
     "output_type": "execute_result"
    }
   ],
   "source": [
    "conversation_summary_buffer_memory(\"Gives me the historical chronology of France. I want as much dates and events as possibles.\")"
   ]
  },
  {
   "cell_type": "code",
   "execution_count": 44,
   "id": "ac487872-595f-43c0-9da8-32bb2dae7106",
   "metadata": {},
   "outputs": [
    {
     "data": {
      "text/plain": [
       "{'input': 'Gives me the historical chronology of Spain. I want as much dates and events as possibles.',\n",
       " 'history': \"Human: Gives me the historical chronology of France. I want as much dates and events as possibles.\\nAI:  Sure, here is an expanded chronology of important dates and events in the history of France:\\n\\n1. **Julius Caesar** conquers Gaul in 58 BC, establishing Roman rule over the region that will become France.\\n\\n2. **Clovis I** , the first King of the Franks, converts to Christianity in 496 AD, paving the way for the Christianization of the Franks and eventual establishment of the Frankish Kingdom. \\n\\n3. The **Frankish Kingdom** rises to become the dominant power in western Europe by the 8th century under the reign of **Charlemagne**, who becomes the first Holy Roman Emperor in 800 AD.\\n\\n4. The **House of Capet** establishes the Kingdom of France in 987 AD, with the coronation of **Hugues Capet** as the first King of France. \\n\\n5. The **Hundred Years' War** (1337-1453) marks a lengthy conflict between France and England over territorial rights in both countries, featuring major battles like Crecy and Agincourt. \\n\\n6. The **Renaissance** brings significant cultural changes to France during the 15th and 16th centuries. The French Renaissance begins with the reign of **Charles VII** and the emergence\\nHuman: Gives me the historical chronology of Spain. I want as much dates and events as possibles.\\nAI:  Certainly! Here is an expanded chronology of important dates and events in Spanish history:\\n\\n1. Asayaouncillor ofstate. This council represents the earliest knownformof written administrationin theSpanishregion. \\n\\n2. The **Roman Empire** conquers Spain in 206 BC, establishing provinces that include Hispania, Lusitania, and Cantabria. The Romans bring with them advancements in agriculture, infrastructure, and religion, constructing bridges and roads as well as fostering the growth of Christianity. \\n\\n3. **Clovis I** ,thefirstKing of theFranks,converts toChristianity in 496 AD. This precedes theChristianizationof theFranksandestablishes the groundwork formanyfutureKingsofFrance. \\n\\n4. The **Vandals** conquer the Western regions of the Roman Empire by 429 AD, including Spain, Portugal, and North Africa \\n\\n5. Following the Vandal rule, the **Visigoths** establish themselves as the dominant power in Spain by the 6th century AD. They establish the Kingdom of Toledo and become one of the most powerful kingdoms in the Western Roman Empire \\n\\n6. The **Umayyad Caliphate** occupies the Spanish peninsula in the 8th century AD, bringing the Islamic faith\\nHuman: Gives me the historical chronology of Germany. I want as much dates and events as possibles.\\nAI:  Here is a detailed chronology of important dates and events in German history:\\n\\n1. **Charlemagne** , the King of the Franks, conquers Bavaria and establishes the Carolingian Empire in 800 AD. This empire ultimately leads to the creation of modern-day Germany.\\n\\n2. The **Holy Roman Empire** is established in 962 AD, characterized by the coronation of **Otto the Great** as the Emperor. This political entity evolves from the Carolingian Dynasty and encompasses territories that resemble the future Germany. \\n\\n3. The **Reformation** in the 16th century leads to the division of Germany into religious factions. With the Edict of Worms in 1521, the Lutheran-Catholic divide becomes prominent, laying the groundwork for centuries of conflict. \\n\\n4. The **Thirty Years' War** (1618-1648) profoundly impacts Germany, marking a contentious period in European history. The war involves many shifting alliances and conflicts between various political entities within the Holy Roman Empire. \\n\\n5. The **French Revolution** and the subsequent Napoleonic Wars in the late 18th and early 19th centuries witness the rise and fall of French hegemony across Europe. These conflicts lead to the consolidation of power in the hands of the\\nHuman: Gives me the historical chronology of France. I want as much dates and events as possibles.\\nAI:  Here is a detailed chronology of important dates and events in French history:\\n\\n1. 15000 BC - The outskirts of modern-day France are inhabited by Homo erectus and Neanderthals, alongside early modern humans. The Magellan straight separates the Iberian Peninsula from the rest of Europe, and the Atlantic Ocean prevents further migration from Eurasia. However, there is evidence of Neanderthal and Homo erectus populations inhabiting the southern regions of France.\\n\\n2. 4000 BC - The Neolithic era sees the introduction of agriculture and husbandry practices to France. This technological shift from a hunter-gatherer lifestyle to one based on permanent settlements occurs gradually over centuries. \\n\\n3. 1300 BC - Celtic languages and culture begin to spread across most of Europe, including France. This cultural shift establishes a core theme of French identity that will persist through the ages.\\n\\n4. 58 BC - Caesar's conquest of Gaul. Through a series of military campaigns, Julius Caesar establishes Roman rule over the region that will become France. This establishes the province of Gallia Transalpina, which becomes an integral part of the Roman Empire. \\n\\n5. 4th Century AD - The adoption of Christianity throughout France marks the beginning of a new era. The transition from pagan traditions\",\n",
       " 'response': ' 1. 20000 BC - The Iberian Peninsula, which includes present-day Spain, experiences settlements from Homo sapiens and Neanderthals. These individuals focus on hunting and nomadic lifestyles.\\n\\n2. 4000 BC - The onset of the Neolithic period brings about agricultural advancements, leading to establishing thriving communities and a shift from nomadic lifestyles. \\n\\n3. 2200 BC - The construction of megalithic structures, such as tombs, begins. This architectural evolution signifies the cultural developments of the time. \\n\\n4. 700 BC - The Iberian Peninsula experiences cultural changes and demographic shifts, introducing new ethnic groups and the founding of city-states. This period also marks the emergence of written history in Spain. \\n\\n5. 206 BC - The Roman Empire conquers the region now known as Spain. This leads to the establishment of three Roman provinces in the Iberian Peninsula: Hispania, Lusitania, and Carthagini. \\n\\n6. 409 AD - The decline of the Roman Empire enables invasions from external forces, and Spain is conquered and settled by various groups, including the Vandals and the Visigoths. \\n\\n7. 778 AD - The Islamic conquest of Spain begins with the Umayyad invasion of the Iberian Peninsula. This introduces Islam to the region'}"
      ]
     },
     "execution_count": 44,
     "metadata": {},
     "output_type": "execute_result"
    }
   ],
   "source": [
    "conversation_summary_buffer_memory(\"Gives me the historical chronology of Spain. I want as much dates and events as possibles.\")"
   ]
  },
  {
   "cell_type": "code",
   "execution_count": 47,
   "id": "b2cdc94d-2eae-40ad-a977-c8e17ba0b6ab",
   "metadata": {},
   "outputs": [
    {
     "data": {
      "text/plain": [
       "{'input': 'Gives me the historical chronology of France. I want as much dates and events as possibles.',\n",
       " 'history': \"Human: Gives me the historical chronology of France. I want as much dates and events as possibles.\\nAI:  Sure, here is an expanded chronology of important dates and events in the history of France:\\n\\n1. **Julius Caesar** conquers Gaul in 58 BC, establishing Roman rule over the region that will become France.\\n\\n2. **Clovis I** , the first King of the Franks, converts to Christianity in 496 AD, paving the way for the Christianization of the Franks and eventual establishment of the Frankish Kingdom. \\n\\n3. The **Frankish Kingdom** rises to become the dominant power in western Europe by the 8th century under the reign of **Charlemagne**, who becomes the first Holy Roman Emperor in 800 AD.\\n\\n4. The **House of Capet** establishes the Kingdom of France in 987 AD, with the coronation of **Hugues Capet** as the first King of France. \\n\\n5. The **Hundred Years' War** (1337-1453) marks a lengthy conflict between France and England over territorial rights in both countries, featuring major battles like Crecy and Agincourt. \\n\\n6. The **Renaissance** brings significant cultural changes to France during the 15th and 16th centuries. The French Renaissance begins with the reign of **Charles VII** and the emergence\\nHuman: Gives me the historical chronology of Spain. I want as much dates and events as possibles.\\nAI:  Certainly! Here is an expanded chronology of important dates and events in Spanish history:\\n\\n1. Asayaouncillor ofstate. This council represents the earliest knownformof written administrationin theSpanishregion. \\n\\n2. The **Roman Empire** conquers Spain in 206 BC, establishing provinces that include Hispania, Lusitania, and Cantabria. The Romans bring with them advancements in agriculture, infrastructure, and religion, constructing bridges and roads as well as fostering the growth of Christianity. \\n\\n3. **Clovis I** ,thefirstKing of theFranks,converts toChristianity in 496 AD. This precedes theChristianizationof theFranksandestablishes the groundwork formanyfutureKingsofFrance. \\n\\n4. The **Vandals** conquer the Western regions of the Roman Empire by 429 AD, including Spain, Portugal, and North Africa \\n\\n5. Following the Vandal rule, the **Visigoths** establish themselves as the dominant power in Spain by the 6th century AD. They establish the Kingdom of Toledo and become one of the most powerful kingdoms in the Western Roman Empire \\n\\n6. The **Umayyad Caliphate** occupies the Spanish peninsula in the 8th century AD, bringing the Islamic faith\\nHuman: Gives me the historical chronology of Germany. I want as much dates and events as possibles.\\nAI:  Here is a detailed chronology of important dates and events in German history:\\n\\n1. **Charlemagne** , the King of the Franks, conquers Bavaria and establishes the Carolingian Empire in 800 AD. This empire ultimately leads to the creation of modern-day Germany.\\n\\n2. The **Holy Roman Empire** is established in 962 AD, characterized by the coronation of **Otto the Great** as the Emperor. This political entity evolves from the Carolingian Dynasty and encompasses territories that resemble the future Germany. \\n\\n3. The **Reformation** in the 16th century leads to the division of Germany into religious factions. With the Edict of Worms in 1521, the Lutheran-Catholic divide becomes prominent, laying the groundwork for centuries of conflict. \\n\\n4. The **Thirty Years' War** (1618-1648) profoundly impacts Germany, marking a contentious period in European history. The war involves many shifting alliances and conflicts between various political entities within the Holy Roman Empire. \\n\\n5. The **French Revolution** and the subsequent Napoleonic Wars in the late 18th and early 19th centuries witness the rise and fall of French hegemony across Europe. These conflicts lead to the consolidation of power in the hands of the\\nHuman: Gives me the historical chronology of France. I want as much dates and events as possibles.\\nAI:  Here is a detailed chronology of important dates and events in French history:\\n\\n1. 15000 BC - The outskirts of modern-day France are inhabited by Homo erectus and Neanderthals, alongside early modern humans. The Magellan straight separates the Iberian Peninsula from the rest of Europe, and the Atlantic Ocean prevents further migration from Eurasia. However, there is evidence of Neanderthal and Homo erectus populations inhabiting the southern regions of France.\\n\\n2. 4000 BC - The Neolithic era sees the introduction of agriculture and husbandry practices to France. This technological shift from a hunter-gatherer lifestyle to one based on permanent settlements occurs gradually over centuries. \\n\\n3. 1300 BC - Celtic languages and culture begin to spread across most of Europe, including France. This cultural shift establishes a core theme of French identity that will persist through the ages.\\n\\n4. 58 BC - Caesar's conquest of Gaul. Through a series of military campaigns, Julius Caesar establishes Roman rule over the region that will become France. This establishes the province of Gallia Transalpina, which becomes an integral part of the Roman Empire. \\n\\n5. 4th Century AD - The adoption of Christianity throughout France marks the beginning of a new era. The transition from pagan traditions\\nHuman: Gives me the historical chronology of Spain. I want as much dates and events as possibles.\\nAI:  1. 20000 BC - The Iberian Peninsula, which includes present-day Spain, experiences settlements from Homo sapiens and Neanderthals. These individuals focus on hunting and nomadic lifestyles.\\n\\n2. 4000 BC - The onset of the Neolithic period brings about agricultural advancements, leading to establishing thriving communities and a shift from nomadic lifestyles. \\n\\n3. 2200 BC - The construction of megalithic structures, such as tombs, begins. This architectural evolution signifies the cultural developments of the time. \\n\\n4. 700 BC - The Iberian Peninsula experiences cultural changes and demographic shifts, introducing new ethnic groups and the founding of city-states. This period also marks the emergence of written history in Spain. \\n\\n5. 206 BC - The Roman Empire conquers the region now known as Spain. This leads to the establishment of three Roman provinces in the Iberian Peninsula: Hispania, Lusitania, and Carthagini. \\n\\n6. 409 AD - The decline of the Roman Empire enables invasions from external forces, and Spain is conquered and settled by various groups, including the Vandals and the Visigoths. \\n\\n7. 778 AD - The Islamic conquest of Spain begins with the Umayyad invasion of the Iberian Peninsula. This introduces Islam to the region\\nHuman: Gives me the historical chronology of Germany. I want as much dates and events as possibles.\\nAI:  1. 1900 BC - The Corded Ware culture, originating from the regions just north of the Germanic territories, starts to spread throughout Germany. This culture brings with it tribal alliances and introduces a new lifestyle and customs to the local populations. \\n\\n2. 700 BC - German territories experience significant changes in their political structures with the emergence of various tribes and clan alliances. The unwritten laws governing these tribes, known as *Recht*, are codified, introducing a form of legal system. \\n\\n3. 1st Century BC - The expansion of the Roman Empire encompasses many Germanic territories, resulting in the establishment of provinces like Germania and Raetia. Despite the Roman presence, many local tribes maintain their unique cultural identities. \\n\\n4. 4th to 5th Centuries AD - The migration of the Germanic tribes, including the Visigoths, Vandals, and Franks, across Europe leads to the fall of the Roman Empire. This period witnesses the settlement of these tribes in different regions of Germany. \\n\\n5. 772 AD - The Kingdom of Germany establishes a unified state with the coronation of Charlemagne as King of the Franks. This event marks the beginning of the Carolingian Dynasty, known for its significant cultural and religious influence. \\n\\n6.\",\n",
       " 'response': ' 1. The Neolithic period begins in France, characterized by the transition to agriculture and the use of tools and ceramics. This period also sees the construction of megalithic monuments, such as the famous Stonehenge. \\n\\n2. The Celtic expansion across Europe introduces the Celtic language and culture to France, which would eventually influence the development of the French language and identity. \\n\\n3. Gaul (present-day France) is conquered by the Roman Empire under Julius Caesar. France becomes a Roman province, and many cities are founded or expanded during this period, including Paris. The Romans introduce their culture, architecture, and Roman Catholicism to the region. \\n\\n4. The Merovingian dynasty establishes the Kingdom of the Franks, which would become the foundation for the modern state of France. The Franks convert to Christianity during this time and become a powerful force in Europe under Frankish kings like Clovis I. \\n\\n5. The Carolingian Dynasty, beginning with Charlemagne, conquers regions throughout Europe, establishing the Holy Roman Empire. France is becoming a significant political and cultural center during this time. \\n\\n6. The French Revolution, beginning in 1789, revolutionizes European politics and society, ending the French monarchy and establishing a democratic government. '}"
      ]
     },
     "execution_count": 47,
     "metadata": {},
     "output_type": "execute_result"
    }
   ],
   "source": [
    "conversation_summary_buffer_memory(\"Gives me the historical chronology of France. I want as much dates and events as possibles.\")"
   ]
  },
  {
   "cell_type": "code",
   "execution_count": 46,
   "id": "711270af-8b9c-4f53-b719-99bfff8dc113",
   "metadata": {},
   "outputs": [
    {
     "name": "stdout",
     "output_type": "stream",
     "text": [
      "Human: Gives me the historical chronology of France. I want as much dates and events as possibles.\n",
      "AI:  Sure, here is an expanded chronology of important dates and events in the history of France:\n",
      "\n",
      "1. **Julius Caesar** conquers Gaul in 58 BC, establishing Roman rule over the region that will become France.\n",
      "\n",
      "2. **Clovis I** , the first King of the Franks, converts to Christianity in 496 AD, paving the way for the Christianization of the Franks and eventual establishment of the Frankish Kingdom. \n",
      "\n",
      "3. The **Frankish Kingdom** rises to become the dominant power in western Europe by the 8th century under the reign of **Charlemagne**, who becomes the first Holy Roman Emperor in 800 AD.\n",
      "\n",
      "4. The **House of Capet** establishes the Kingdom of France in 987 AD, with the coronation of **Hugues Capet** as the first King of France. \n",
      "\n",
      "5. The **Hundred Years' War** (1337-1453) marks a lengthy conflict between France and England over territorial rights in both countries, featuring major battles like Crecy and Agincourt. \n",
      "\n",
      "6. The **Renaissance** brings significant cultural changes to France during the 15th and 16th centuries. The French Renaissance begins with the reign of **Charles VII** and the emergence\n",
      "Human: Gives me the historical chronology of Spain. I want as much dates and events as possibles.\n",
      "AI:  Certainly! Here is an expanded chronology of important dates and events in Spanish history:\n",
      "\n",
      "1. Asayaouncillor ofstate. This council represents the earliest knownformof written administrationin theSpanishregion. \n",
      "\n",
      "2. The **Roman Empire** conquers Spain in 206 BC, establishing provinces that include Hispania, Lusitania, and Cantabria. The Romans bring with them advancements in agriculture, infrastructure, and religion, constructing bridges and roads as well as fostering the growth of Christianity. \n",
      "\n",
      "3. **Clovis I** ,thefirstKing of theFranks,converts toChristianity in 496 AD. This precedes theChristianizationof theFranksandestablishes the groundwork formanyfutureKingsofFrance. \n",
      "\n",
      "4. The **Vandals** conquer the Western regions of the Roman Empire by 429 AD, including Spain, Portugal, and North Africa \n",
      "\n",
      "5. Following the Vandal rule, the **Visigoths** establish themselves as the dominant power in Spain by the 6th century AD. They establish the Kingdom of Toledo and become one of the most powerful kingdoms in the Western Roman Empire \n",
      "\n",
      "6. The **Umayyad Caliphate** occupies the Spanish peninsula in the 8th century AD, bringing the Islamic faith\n",
      "Human: Gives me the historical chronology of Germany. I want as much dates and events as possibles.\n",
      "AI:  Here is a detailed chronology of important dates and events in German history:\n",
      "\n",
      "1. **Charlemagne** , the King of the Franks, conquers Bavaria and establishes the Carolingian Empire in 800 AD. This empire ultimately leads to the creation of modern-day Germany.\n",
      "\n",
      "2. The **Holy Roman Empire** is established in 962 AD, characterized by the coronation of **Otto the Great** as the Emperor. This political entity evolves from the Carolingian Dynasty and encompasses territories that resemble the future Germany. \n",
      "\n",
      "3. The **Reformation** in the 16th century leads to the division of Germany into religious factions. With the Edict of Worms in 1521, the Lutheran-Catholic divide becomes prominent, laying the groundwork for centuries of conflict. \n",
      "\n",
      "4. The **Thirty Years' War** (1618-1648) profoundly impacts Germany, marking a contentious period in European history. The war involves many shifting alliances and conflicts between various political entities within the Holy Roman Empire. \n",
      "\n",
      "5. The **French Revolution** and the subsequent Napoleonic Wars in the late 18th and early 19th centuries witness the rise and fall of French hegemony across Europe. These conflicts lead to the consolidation of power in the hands of the\n",
      "Human: Gives me the historical chronology of France. I want as much dates and events as possibles.\n",
      "AI:  Here is a detailed chronology of important dates and events in French history:\n",
      "\n",
      "1. 15000 BC - The outskirts of modern-day France are inhabited by Homo erectus and Neanderthals, alongside early modern humans. The Magellan straight separates the Iberian Peninsula from the rest of Europe, and the Atlantic Ocean prevents further migration from Eurasia. However, there is evidence of Neanderthal and Homo erectus populations inhabiting the southern regions of France.\n",
      "\n",
      "2. 4000 BC - The Neolithic era sees the introduction of agriculture and husbandry practices to France. This technological shift from a hunter-gatherer lifestyle to one based on permanent settlements occurs gradually over centuries. \n",
      "\n",
      "3. 1300 BC - Celtic languages and culture begin to spread across most of Europe, including France. This cultural shift establishes a core theme of French identity that will persist through the ages.\n",
      "\n",
      "4. 58 BC - Caesar's conquest of Gaul. Through a series of military campaigns, Julius Caesar establishes Roman rule over the region that will become France. This establishes the province of Gallia Transalpina, which becomes an integral part of the Roman Empire. \n",
      "\n",
      "5. 4th Century AD - The adoption of Christianity throughout France marks the beginning of a new era. The transition from pagan traditions\n",
      "Human: Gives me the historical chronology of Spain. I want as much dates and events as possibles.\n",
      "AI:  1. 20000 BC - The Iberian Peninsula, which includes present-day Spain, experiences settlements from Homo sapiens and Neanderthals. These individuals focus on hunting and nomadic lifestyles.\n",
      "\n",
      "2. 4000 BC - The onset of the Neolithic period brings about agricultural advancements, leading to establishing thriving communities and a shift from nomadic lifestyles. \n",
      "\n",
      "3. 2200 BC - The construction of megalithic structures, such as tombs, begins. This architectural evolution signifies the cultural developments of the time. \n",
      "\n",
      "4. 700 BC - The Iberian Peninsula experiences cultural changes and demographic shifts, introducing new ethnic groups and the founding of city-states. This period also marks the emergence of written history in Spain. \n",
      "\n",
      "5. 206 BC - The Roman Empire conquers the region now known as Spain. This leads to the establishment of three Roman provinces in the Iberian Peninsula: Hispania, Lusitania, and Carthagini. \n",
      "\n",
      "6. 409 AD - The decline of the Roman Empire enables invasions from external forces, and Spain is conquered and settled by various groups, including the Vandals and the Visigoths. \n",
      "\n",
      "7. 778 AD - The Islamic conquest of Spain begins with the Umayyad invasion of the Iberian Peninsula. This introduces Islam to the region\n",
      "Human: Gives me the historical chronology of Germany. I want as much dates and events as possibles.\n",
      "AI:  1. 1900 BC - The Corded Ware culture, originating from the regions just north of the Germanic territories, starts to spread throughout Germany. This culture brings with it tribal alliances and introduces a new lifestyle and customs to the local populations. \n",
      "\n",
      "2. 700 BC - German territories experience significant changes in their political structures with the emergence of various tribes and clan alliances. The unwritten laws governing these tribes, known as *Recht*, are codified, introducing a form of legal system. \n",
      "\n",
      "3. 1st Century BC - The expansion of the Roman Empire encompasses many Germanic territories, resulting in the establishment of provinces like Germania and Raetia. Despite the Roman presence, many local tribes maintain their unique cultural identities. \n",
      "\n",
      "4. 4th to 5th Centuries AD - The migration of the Germanic tribes, including the Visigoths, Vandals, and Franks, across Europe leads to the fall of the Roman Empire. This period witnesses the settlement of these tribes in different regions of Germany. \n",
      "\n",
      "5. 772 AD - The Kingdom of Germany establishes a unified state with the coronation of Charlemagne as King of the Franks. This event marks the beginning of the Carolingian Dynasty, known for its significant cultural and religious influence. \n",
      "\n",
      "6.\n"
     ]
    }
   ],
   "source": [
    "# We should be able to get the whole conversation inside the memory\n",
    "print(conversation_summary_buffer_memory.memory.buffer)"
   ]
  },
  {
   "cell_type": "markdown",
   "id": "f94d108d-d2a8-47ab-a552-5eb970e202ca",
   "metadata": {},
   "source": [
    "#### From your observations - Gives the pros and cons of this memory \n",
    "\n",
    "##### Pros\n",
    "\n",
    "- it summarizes past interactions and reduces the amount of processed data.\n",
    "- it retrieves easily past context\n",
    "\n",
    "##### Cons\n",
    "\n",
    "- Summarization may impact the response\n",
    "- I repeated the same question, but he put time to respond\n",
    "\n"
   ]
  },
  {
   "cell_type": "markdown",
   "id": "1d3677e1-f626-4a16-a8b3-9c09e1108a0d",
   "metadata": {},
   "source": [
    "### Explanation:\n",
    "We have integrated different memory modules with llm to enhance chatbot capabilities by maintaining conversation context and enabling interactions. We will have an conversational interface that is able to refer to information introduced earlier in the conversation."
   ]
  }
 ],
 "metadata": {
  "kernelspec": {
   "display_name": "Python 3 (ipykernel)",
   "language": "python",
   "name": "python3"
  },
  "language_info": {
   "codemirror_mode": {
    "name": "ipython",
    "version": 3
   },
   "file_extension": ".py",
   "mimetype": "text/x-python",
   "name": "python",
   "nbconvert_exporter": "python",
   "pygments_lexer": "ipython3",
   "version": "3.12.2"
  }
 },
 "nbformat": 4,
 "nbformat_minor": 5
}

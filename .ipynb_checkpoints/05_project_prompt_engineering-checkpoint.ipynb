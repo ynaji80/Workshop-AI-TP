{
 "cells": [
  {
   "cell_type": "markdown",
   "id": "f193828c-cca1-422f-a0a0-f27896ca3bd1",
   "metadata": {},
   "source": [
    "# Project : Prompt Engineering\n",
    "\n",
    "\n",
    "The quality of the instructions you give to an LLM can have a large effect on the quality of its outputs, especially for complex tasks. This project related to prompt design will help you learn how to craft prompts that produce accurate and consistent results.\n",
    "\n",
    "The project will be based on : \n",
    "- https://docs.anthropic.com/claude/docs/introduction-to-prompt-design\n",
    "\n",
    "- https://docs.google.com/spreadsheets/d/19jzLgRruG9kjUQNKtCg1ZjdD6l6weA6qRXG5zLIAhC8/edit#gid=150872633\n",
    "\n",
    "However, we will use Cohere and not Claude. It means, that you need to retain the principles of prompt engineering  but not necessarily exactly the same syntax described in the documents\n",
    "\n",
    "Moreover, you can check :\n",
    "- https://python.langchain.com/docs/modules/model_io/prompts/quick_start\n",
    "- https://docs.google.com/presentation/d/1zxkSI7lLUBrZycA-_znwqu8DDyVhHLkQGScvzaZrUns/edit?pli=1#slide=id.g2accb454d71_79_175 "
   ]
  },
  {
   "cell_type": "markdown",
   "id": "2c99f7ec-64c8-415c-a8e9-33c8042bb26d",
   "metadata": {},
   "source": [
    "### Complete pre-requisite"
   ]
  },
  {
   "cell_type": "markdown",
   "id": "7ff372e2-dbf4-476c-bee7-09d551d43883",
   "metadata": {},
   "source": [
    "#### Packages"
   ]
  },
  {
   "cell_type": "code",
   "execution_count": 1,
   "id": "60530a1d",
   "metadata": {},
   "outputs": [
    {
     "data": {
      "text/plain": [
       "True"
      ]
     },
     "execution_count": 1,
     "metadata": {},
     "output_type": "execute_result"
    }
   ],
   "source": [
    "import os\n",
    "from dotenv import load_dotenv, find_dotenv\n",
    "\n",
    "load_dotenv(find_dotenv(), override=True)\n",
    "\n",
    "# You can add other package here if needed\n",
    "    "
   ]
  },
  {
   "cell_type": "markdown",
   "id": "6efe4eba-f301-4f50-9260-a7ddb778afac",
   "metadata": {},
   "source": [
    "#### Initialize LLM "
   ]
  },
  {
   "cell_type": "code",
   "execution_count": 2,
   "id": "f36fd57c-ec76-49e6-95ae-368e836725ef",
   "metadata": {},
   "outputs": [
    {
     "name": "stderr",
     "output_type": "stream",
     "text": [
      "C:\\Users\\najiy\\OneDrive\\Bureau\\llm\\Workshop-AI-TP\\env-tp\\Lib\\site-packages\\langchain_core\\_api\\deprecation.py:139: LangChainDeprecationWarning: The class `Cohere` was deprecated in LangChain 0.1.14 and will be removed in 0.3.0. An updated version of the class exists in the langchain-cohere package and should be used instead. To use it run `pip install -U langchain-cohere` and import as `from langchain_cohere import Cohere`.\n",
      "  warn_deprecated(\n"
     ]
    },
    {
     "name": "stdout",
     "output_type": "stream",
     "text": [
      "\u001b[1mCohere\u001b[0m\n",
      "Params: {'model': None, 'max_tokens': 256, 'temperature': 0.75, 'k': 0, 'p': 1, 'frequency_penalty': 0.0, 'presence_penalty': 0.0, 'truncate': None}\n"
     ]
    }
   ],
   "source": [
    "from langchain.llms import Cohere\n",
    "\n",
    "llm = Cohere(temperature=0.75, cohere_api_key=os.environ.get('COHERE_API_KEY'))\n",
    "\n",
    "print(llm)\n"
   ]
  },
  {
   "cell_type": "markdown",
   "id": "e771f89a-0a87-4b68-9cd4-6c8e481a89ea",
   "metadata": {},
   "source": [
    "## Prompt Design"
   ]
  },
  {
   "cell_type": "markdown",
   "id": "1370c0b7",
   "metadata": {},
   "source": [
    "### Being Clear and Direct\n",
    "\n",
    "From : https://docs.google.com/spreadsheets/d/19jzLgRruG9kjUQNKtCg1ZjdD6l6weA6qRXG5zLIAhC8/edit#gid=1733615301\n",
    "\n",
    "\n",
    "**LLM responds best to clear and direct instructions.** \n",
    "\n",
    "Think of llm like any other human that is new to the job. Claude has no context on what to do aside from what you literally tell it. Just as when you instruct a human for the first time on a task, the more you explain exactly what you want in a straightforward manner to LLM, the better and more accurate LLM's response will be.\n",
    "\n",
    "**The Golden Rule of Clear Prompting** : show your prompt to a friend and ask them if they could follow the instructions themselves and produce the exact result you want. If they're confused, any LLM will be confused as well."
   ]
  },
  {
   "cell_type": "markdown",
   "id": "14c797b8-9db8-4f1c-8d3d-bf856565b68b",
   "metadata": {},
   "source": [
    "#### Exercises"
   ]
  },
  {
   "cell_type": "code",
   "execution_count": 8,
   "id": "77638288-af34-4103-9f09-7ca0c7491dd3",
   "metadata": {},
   "outputs": [
    {
     "data": {
      "text/plain": [
       "' Robots shine at manufacturing\\n automatons excel at many things\\nAI partners in many ways '"
      ]
     },
     "execution_count": 8,
     "metadata": {},
     "output_type": "execute_result"
    }
   ],
   "source": [
    "\n",
    "# adapt the prompt to make the llm outpout its answer in Spanish\n",
    "basic_prompt = \"Write a haiku about robots.\"\n",
    "llm.invoke(basic_prompt)"
   ]
  },
  {
   "cell_type": "code",
   "execution_count": 14,
   "id": "c739a541-8a90-4e7b-82b9-adbe7472cb57",
   "metadata": {},
   "outputs": [
    {
     "data": {
      "text/plain": [
       "' los robots que llevamos\\nlos cambios de siempre para adelante\\nde humano a servidor'"
      ]
     },
     "execution_count": 14,
     "metadata": {},
     "output_type": "execute_result"
    }
   ],
   "source": [
    "\n",
    "# adapt the prompt to make the llm outpout its answer in Spanish\n",
    "improved_prompt = \"Write a haiku about robots in spanish.\"\n",
    "llm.invoke(improved_prompt)"
   ]
  },
  {
   "cell_type": "code",
   "execution_count": 15,
   "id": "902679cb-f1dd-4daf-a584-3066742c7ec0",
   "metadata": {},
   "outputs": [
    {
     "data": {
      "text/plain": [
       "\" Michael Jordan is a frequent contender for the title of 'best basketball player of all time'. His impressive scoring average of 30.1 points per game across his 15-year career is a testament to his outstanding athleticism and strategic gameplay. Renowned for his competitive edge and breathtaking agility, Jordan won six NBA championships with the Chicago Bulls and took home the NBA's Most Valuable Player (MVP) award five times. He is also remembered for his iconic 'Air Jordan' shoes, which have become a staple of popular culture and footwear design. \\n\\nIt's important to note that debates concerning the title of 'best player ever' involve subjective comparisons of different players' skills, accolades, and cultural impact. Numerous renowned players like LeBron James, Kareem Abdul-Jabbar, and Magic Johnson are often brought up in these discussions. \\n\\nUltimately, defining the 'best' is a matter of personal judgment and can vary depending on the criteria and context considered. The NBA has a long and rich history full of many exceptional players, which makes this debate ongoing and exciting for fans. \""
      ]
     },
     "execution_count": 15,
     "metadata": {},
     "output_type": "execute_result"
    }
   ],
   "source": [
    "\n",
    "# Modify the prompt so that the llm doesn't equivocate at all and responds with ONLY the name of one specific player, with no other words or punctuation. \n",
    "basic_prompt = \"Who is the best basketball player of all time? Please choose one specific player.\"\n",
    "llm.invoke(basic_prompt)"
   ]
  },
  {
   "cell_type": "code",
   "execution_count": 16,
   "id": "aec2110f-677f-4f48-97da-4443515305c6",
   "metadata": {},
   "outputs": [
    {
     "data": {
      "text/plain": [
       "\" Michael Jordan \\n\\nI can provide a more detailed response regarding his achievements and why many consider him to be the best, but the choice ultimately depends on personal opinion and preferences. Let me know if you'd like to discuss this further! \""
      ]
     },
     "execution_count": 16,
     "metadata": {},
     "output_type": "execute_result"
    }
   ],
   "source": [
    "\n",
    "# Modify the prompt so that the llm doesn't equivocate at all and responds with ONLY the name of one specific player, with no other words or punctuation. \n",
    "improved_prompt = \"Who is the best basketball player of all time? Please choose one specific player and respond with his name only\"\n",
    "llm.invoke(improved_prompt)"
   ]
  },
  {
   "cell_type": "markdown",
   "id": "3a537a81-5550-4798-af4d-ac122ca26e36",
   "metadata": {},
   "source": [
    "### Assigning Roles (Role Prompting)\n",
    "\n",
    " From : https://docs.google.com/spreadsheets/d/19jzLgRruG9kjUQNKtCg1ZjdD6l6weA6qRXG5zLIAhC8/edit#gid=2055375080\n",
    " \t\n",
    "Continuing on the theme of LLM having no context aside from what you say, it's sometimes important to prompt llm to inhabit a specific role (including all necessary context). This is also known as role prompting. The more detail to the role context, the better.\n",
    "\n",
    "Priming an llm with a role can improve the performance in a variety of fields, from writing to coding to summarizing. It's like how humans can sometimes be helped when told to \"think like a ______\"."
   ]
  },
  {
   "cell_type": "markdown",
   "id": "a1808ae3-6388-460f-b431-55ed46833d3d",
   "metadata": {},
   "source": [
    "#### Exercises"
   ]
  },
  {
   "cell_type": "code",
   "execution_count": 11,
   "id": "df8f39d6-8638-424e-813d-bde910f3f910",
   "metadata": {},
   "outputs": [
    {
     "data": {
      "text/plain": [
       "' A republic is a type of governance in which \"the people and their elected politicians hold power\" (according to Dictionary.com). In a republican government, people exercise political power in a democratic manner. The name is derived from the Latin expression \"res publica,\" which means \"public matter.\" \\n\\nRepublics vary significantly across the world, but they are all built on the foundation of democratic principles. In a republican government, people exercise political power either directly or through elected representatives. Voting, public elections, and political parties are all features of a republic. A republic is governed by a constitution that outlines the rules and principles of the government and guarantees fundamental rights. \\n\\nSome nations, such as France and Ireland, identify themselves as republics. Others, such as Israel, which defines itself as a parliamentary democracy, nevertheless have constitutional frameworks and democratic systems akin to republics. In the United States, the Constitution is the foundation of the government, and the system is frequently referred to as \"republican\" in flavor. \\n\\nIt\\'s vital to note that not every country that refers to itself as a republic adheres to liberal democratic ideals. Not all citizens are guaranteed voting rights in a republic, and democratic elections may be subject to numerous limits. Furthermore, republics are not'"
      ]
     },
     "execution_count": 11,
     "metadata": {},
     "output_type": "execute_result"
    }
   ],
   "source": [
    "# generate a better output by giving a role\n",
    "basic_prompt = \"Explains what is a republic.\"\n",
    "llm.invoke(basic_prompt)"
   ]
  },
  {
   "cell_type": "code",
   "execution_count": 12,
   "id": "261e9a81-41e9-47d8-a1ce-f3d5db09c80e",
   "metadata": {},
   "outputs": [
    {
     "data": {
      "text/plain": [
       "' A republic is a type of governance in which \"the people and their elected politicians hold power\". In republics, people exercise political power, and elected politicians constitute a branch of government through democratic elections. Throughout history, this idea has evolved, ranging from having a small subset of the populace vote to universal suffrage, and a broad array of elected officials to various forms of executive branches and appointed systems. \\n\\nWould you like me to go into more detail about any of these evolutionary aspects or provide other political definitions? I can also provide information about different types of republics throughout history if you are interested. '"
      ]
     },
     "execution_count": 12,
     "metadata": {},
     "output_type": "execute_result"
    }
   ],
   "source": [
    "# generate a better output by giving a role\n",
    "improved_prompt = \"Think like a politician and explain what is a republic.\"\n",
    "llm.invoke(improved_prompt)"
   ]
  },
  {
   "cell_type": "markdown",
   "id": "e2877c34-de6b-4d7a-9e69-89092422c9e3",
   "metadata": {},
   "source": [
    "### Separating Data from Instructions\n",
    "\n",
    "Not able to provide an exercice : https://docs.google.com/spreadsheets/d/19jzLgRruG9kjUQNKtCg1ZjdD6l6weA6qRXG5zLIAhC8/edit#gid=1519813817"
   ]
  },
  {
   "cell_type": "markdown",
   "id": "52b6171a-0805-4cdd-90bf-85e91b09e9a6",
   "metadata": {},
   "source": [
    "### Formatting Output\n",
    "\n",
    "From: https://docs.google.com/spreadsheets/d/19jzLgRruG9kjUQNKtCg1ZjdD6l6weA6qRXG5zLIAhC8/edit#gid=257656347 \n",
    "\n",
    "An LLM can format its output in a wide variety of ways. You just need to ask for it to do so!"
   ]
  },
  {
   "cell_type": "markdown",
   "id": "5fc21042-4c73-4ce1-b797-d8fff0902b71",
   "metadata": {},
   "source": [
    "#### Exercises"
   ]
  },
  {
   "cell_type": "code",
   "execution_count": 19,
   "id": "85e3342e-2787-4f79-9103-9399b2ede8af",
   "metadata": {},
   "outputs": [
    {
     "data": {
      "text/plain": [
       "\" While there is no definitive answer to this question as opinions vary greatly across individuals, some of the most commonly named players considered among the best in the history of basketball include: \\n\\n1. Michael Jordan: Widely regarded as one of the greatest players of all time, with a record of six NBA championships.\\n\\n2. LeBron James: Currently active and often ranked as the best player currently playing the game, with a record of four NBA championships. \\n\\n3. Kareem Abdul-Jabbar: Regarded as one of the greatest scorers in NBA history and held the NBA's all-time scoring record for over 20 years.\\n\\n4. Magic Johnson: One of the most complete and dominant players, with a record of five NBA championships, three of which he won as a player and two as a coach. \\n\\n5. Kobe Bryant: A two-time NBA Finals MVP, Kobe won five NBA championships during his career and is remembered for his clutch performances and work ethic. \\n\\n6. Shaquille O'Neal: Known for his impressive size, strength, and versatility, Shaq won four NBA championships and was a 15-time NBA All-Star. \\n\\n7. Kareem Rush: A dominant player with a signature move known\""
      ]
     },
     "execution_count": 19,
     "metadata": {},
     "output_type": "execute_result"
    }
   ],
   "source": [
    "\n",
    "# Forced to make a choice, Cohere designates Michael Jordan as the best basketball player of all time. Can we get Cohere to pick someone else?\n",
    "basic_prompt = \"Who is the best basketball player of all time?\"\n",
    "llm.invoke(basic_prompt)"
   ]
  },
  {
   "cell_type": "code",
   "execution_count": 20,
   "id": "1bbf68b5-9f50-4ede-a5c4-a74a2df9a401",
   "metadata": {},
   "outputs": [
    {
     "data": {
      "text/plain": [
       "\" Kobe Bryant was an American professional basketball player. He played his entire, 20-year career with the Los Angeles Lakers of the National Basketball Association (NBA). He was born in Philadelphia, Pennsylvania, and moved to Italy at age six and spent his childhood and early adolescence there. He returned to the U.S. and played basketball at the Lower Merion High School in Pennsylvania, where he was recognized as a top prospect, and drafted directly out of high school by the Charlotte Hornets with the 13th overall pick in the 1996 NBA draft. The draft day deal immediately sent him to the Los Angeles Lakers, where he would spend the next 18 years of his career.\\n\\nHe was known for his impressive scoring ability and versatility on the court, and his powerful competitive instinct drove him to become one of the finest players in basketball. He won five NBA championships with the Lakers and was an 18-time NBA All-Star, a 15-time member of the All-NBA Team, and a twelve-time NBA All-Defensive Team member. He also won two Olympic gold medals with the U.S. national basketball team and was selected as the NBA's Most Valuable Player (MVP) in 2008. He retired in 2016 as the NBA's third-highest all-\""
      ]
     },
     "execution_count": 20,
     "metadata": {},
     "output_type": "execute_result"
    }
   ],
   "source": [
    "\n",
    "improved_prompt = \"Give me info about Kobe Bryant, the best basketball player of all time\"\n",
    "llm.invoke(improved_prompt)"
   ]
  },
  {
   "cell_type": "code",
   "execution_count": 21,
   "id": "1b0f4824-34ff-4225-a745-96eccaa12bca",
   "metadata": {},
   "outputs": [
    {
     "data": {
      "text/plain": [
       "' Here are some of the significant events that have shaped French history:\\n\\nThe French Revolution (1789-1799): This decade-long revolution marked a turning point in French history. It began with growing unrest among the common people, who were suffering under the weight of an oppressive monarchy and a costly war. The Revolution culminated in the rise of the radical Jacobin government, led by Maximilien Robespierre, which instituted a Reign of Terror. This period saw the beheading of the French monarch, King Louis XVI, and the rule of Napoleon Bonaparte after the French Republican Army defeated the armies of Europe. \\n\\nThe Napoleonic Era (1799-1815): After assuming power, Napoleon established the French Consulate (with himself as leader) and enacted a series of legal and social reforms that continued the ideals of the French Revolution and solidified his rule. He crowned himself Emperor in 1804 and expanded the French Empire, leading an unsuccessful invasion of Britain and the Continental Coalition that culminated at the bloody Battle of Waterloo. \\n\\nThe Franco-Prussian War and the Paris Commune (1870-1871): This war, fought between France and Prussia (later Germany), ended in a decisive Prussian victory and the capture of Paris. The conflict weakened the French monarchy and led to the resignation'"
      ]
     },
     "execution_count": 21,
     "metadata": {},
     "output_type": "execute_result"
    }
   ],
   "source": [
    "\n",
    "# Instead of receiving a basic output, you want to ouptut in a table format\n",
    "basic_prompt = \"Gives the main events of France.\"\n",
    "llm.invoke(basic_prompt)"
   ]
  },
  {
   "cell_type": "code",
   "execution_count": 22,
   "id": "2f853b91-ad5a-4702-927a-df372ada8118",
   "metadata": {},
   "outputs": [
    {
     "data": {
      "text/plain": [
       "\" Sure! Here is a table of the main historical events of France till 1968. \\n\\n| Year | Event |\\n|---|---|\\n| MEPNIC ERA ( clasped between Middle Ages and Renaissance) | - Duchy of Normandy conquered in 1204 & English ruled it for century. |\\n| KINGDOM OF FRANCE ERA | - 16th century - French Renaissance culture spreads across Europe |\\n| 1789 | - Start of the French Revolution with the Storming of the Bastille |\\n| 1792 | - France declares war on Prussia and Austria |\\n| 1799 | - Napoleon takes power through a coup |\\n| 1804 | - Napoleon crowns himself as the Emperor of France |\\n| 1815 | - Napoleon is exiled after the war of 1812 and Waterloo |\\n| 1830 | - Charles X is overthrown |\\n| 1848 | - Napoleon's nephew, Louis-Napoleon, is elected president |\\n| 1852 | - He proclaims himself Emperor Napoleon III, and expands the French Empire |\\n| 1870 | - Franco-Prussian War begins, leading to the collapse of the Empire and the birth of the French Third Republic |\\n| 1944 | - Allies liberate Paris and Ile de France during World War II |\\n| 1959 | - Charles de Gaulle\""
      ]
     },
     "execution_count": 22,
     "metadata": {},
     "output_type": "execute_result"
    }
   ],
   "source": [
    "improved_prompt = \"Give me the main events of France in a table format.\"\n",
    "llm.invoke(improved_prompt)"
   ]
  },
  {
   "cell_type": "markdown",
   "id": "c0f8eb26-0277-4622-a858-cd3c292d82f7",
   "metadata": {},
   "source": [
    "### Thinking Step by Step \n",
    "\n",
    "From: https://docs.google.com/spreadsheets/d/19jzLgRruG9kjUQNKtCg1ZjdD6l6weA6qRXG5zLIAhC8/edit#gid=1213680236\n",
    "\n",
    " \t\n",
    "If someone woke you up and immediately started asking you several complicated questions that you had to respond to right away, how would you do? Probably not as good as if you were given time to think through your answer first. \n",
    "\n",
    "Guess what? An LLM is the same way.\n",
    "\n",
    "Giving Cohere time to think step by step sometimes makes Cohere more accurate, particularly for complex tasks."
   ]
  },
  {
   "cell_type": "markdown",
   "id": "c3938c76-4e49-44a6-b68d-24a387c833f2",
   "metadata": {},
   "source": [
    "#### Exercises"
   ]
  },
  {
   "cell_type": "code",
   "execution_count": 31,
   "id": "3f5eec2b-5016-426f-9f5a-1d377cddb284",
   "metadata": {},
   "outputs": [
    {
     "data": {
      "text/plain": [
       "' To determine the profit from product A in a day, we need to multiply the profit per unit by the number of units that can be produced within a day. The profit per unit is $30, and each unit takes 2 hours to produce.\\n\\nFirst, we determine the maximum number of units that can be produced in a day given the available labor:\\nNumber of units = Available labor hours / Production hours per unit\\nNumber of units = 40 hours / 2 hours = 20 units\\n\\nNow, calculating the daily profit:\\nProfit = Profit per unit * Number of units produced\\nProfit = $30 * 20 units = $600\\n\\nSo, the profit from product A in a day is $600.'"
      ]
     },
     "execution_count": 31,
     "metadata": {},
     "output_type": "execute_result"
    }
   ],
   "source": [
    "\n",
    "# Find something where you need to  use the \"Think step by step method\"\n",
    "basic_prompt = \"A factory produces a product A. The profit from product A is $30 per unit. The production of each unit of product A requires 2 hours. The factory has 40 hours of labor per day. How much profit in the day from the product A?\"\n",
    "llm.invoke(basic_prompt)\n"
   ]
  },
  {
   "cell_type": "code",
   "execution_count": 30,
   "id": "7d9e8c05-659a-49bd-af3b-86196c904168",
   "metadata": {},
   "outputs": [
    {
     "data": {
      "text/plain": [
       "\" To compute the number of units of Product A produced per day, we'll use the formula:\\nNumber of units = Available labor hours/hours required per unit\\n\\nWe have the following values:\\nAvailable labor hours = 40 hours\\nHours required per unit = 2 hours\\n\\nUsing the formula, we have:\\nNumber of units = 40 hours/2 hours = 20 units\\n\\nSo, the factory produces 20 units of Product A per day.\\n\\nTo calculate the daily profit, we'll use the following formula:\\nDaily profit = (Profit per unit * Number of units produced)\\n\\nWe have the following values:\\nProfit per unit = $30\\nNumber of units produced = 20 units\\n\\nSubstituting the values in the formula, we have:\\nDaily profit = ($30 * 20) = $600\\n\\nSo, the daily profit from Product A is $600.\""
      ]
     },
     "execution_count": 30,
     "metadata": {},
     "output_type": "execute_result"
    }
   ],
   "source": [
    "\n",
    "# Find something where you need to  use the \"Think step by step method\"\n",
    "improved_prompt = \"A factory produces a product A. The profit from product A is $30 per unit. The production of each unit of product A requires 2 hours. The factory has 40 hours of labor per day, return the number of products produced per day, then return the profit per day\"\n",
    "llm.invoke(improved_prompt)"
   ]
  },
  {
   "cell_type": "markdown",
   "id": "0508c821-2a96-4fb0-a7eb-e2d39014851b",
   "metadata": {},
   "source": [
    "### Using Examples\n",
    "\n",
    "Check this sheet to understand the difference with \"Formatting output\": https://docs.google.com/spreadsheets/d/19jzLgRruG9kjUQNKtCg1ZjdD6l6weA6qRXG5zLIAhC8/edit#gid=1640903723\n"
   ]
  },
  {
   "cell_type": "markdown",
   "id": "68a6fdc2-e790-43e6-ac2f-30ef6a5ad22d",
   "metadata": {},
   "source": [
    "#### Exercises"
   ]
  },
  {
   "cell_type": "code",
   "execution_count": 32,
   "id": "0649f48b-f151-496c-9f3f-b456c9dca192",
   "metadata": {},
   "outputs": [
    {
     "data": {
      "text/plain": [
       "' Apples are rich in antioxidants and polyphenols, which can have positive health benefits such as lowering cholesterol and reducing the risk of developing chronic diseases.\\n\\nHowever, it is important to note that diet alone is not enough to ensure optimal health. A balanced diet, regular exercise, adequate sleep, and stress management are all crucial factors for maintaining good health.\\n\\nWhile eating an apple every day may have some health benefits, it is not a guarantee that you will never need to visit the doctor. It is essential to maintain a healthy lifestyle and consult a healthcare professional when necessary. '"
      ]
     },
     "execution_count": 32,
     "metadata": {},
     "output_type": "execute_result"
    }
   ],
   "source": [
    "\n",
    "# Find something where you need to  use the \"Using Examples\"\n",
    "# The goal is to understanding how it is powerful compared to \"Formatting output\"\n",
    "# When you exactly know what you want\n",
    "basic_prompt = \"Will eating an apple every day keep a doctor away?\"\n",
    "llm.invoke(basic_prompt)\n"
   ]
  },
  {
   "cell_type": "code",
   "execution_count": 33,
   "id": "cafa199a-9fe2-4101-9a7e-f493b76ff52f",
   "metadata": {},
   "outputs": [
    {
     "data": {
      "text/plain": [
       "\" That's true, provided that you maintain a balanced diet as well! It's important to eat a variety of foods in sufficient quantities to ensure you're getting all the nutrients your body needs to function properly. While apples are nutritious and a good source of antioxidants, they alone cannot fulfill all your dietary requirements. It's always important to eat a variety of fruits and vegetables, as well as whole grains, protein-rich foods, and healthy fats. \\n\\nRemember, dietary needs can vary based on individual factors such as age, gender, and activity level. It's always a good idea to consult a nutritionist or a healthcare professional if you have specific concerns regarding your diet. \""
      ]
     },
     "execution_count": 33,
     "metadata": {},
     "output_type": "execute_result"
    }
   ],
   "source": [
    "\n",
    "# Find something where you need to  use the \"Using Examples\"\n",
    "# The goal is to understanding how it is powerful compared to \"Formatting output\"\n",
    "# When you exactly know what you want\n",
    "improved_prompt = \"\"\"Please complete the conversation by writing the next line, speaking as \"A\".\n",
    "Q: Have you tried that new vegan restaurant downtown?\n",
    "A: Yes, I have! They have some delicious options. The chickpea curry was especially good.\n",
    "Q: Will eating an apple every day keep a doctor away?\n",
    "\"\"\"\n",
    "llm.invoke(improved_prompt)"
   ]
  },
  {
   "cell_type": "markdown",
   "id": "6cdc9167-c3be-4d1f-bab8-dbb53ac0b8fc",
   "metadata": {},
   "source": [
    "### Explanation:\n",
    "This notebook shows how to craft prompts that helps the LLM to give more accurate answers, by practicing to design well-structured prompts that consider context and desired format, we can improve them by specifying roles, using examples, and structured outputs."
   ]
  }
 ],
 "metadata": {
  "kernelspec": {
   "display_name": "Python 3 (ipykernel)",
   "language": "python",
   "name": "python3"
  },
  "language_info": {
   "codemirror_mode": {
    "name": "ipython",
    "version": 3
   },
   "file_extension": ".py",
   "mimetype": "text/x-python",
   "name": "python",
   "nbconvert_exporter": "python",
   "pygments_lexer": "ipython3",
   "version": "3.12.2"
  }
 },
 "nbformat": 4,
 "nbformat_minor": 5
}
